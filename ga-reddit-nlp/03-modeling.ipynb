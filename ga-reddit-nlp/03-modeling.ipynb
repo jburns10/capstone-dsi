{
 "cells": [
  {
   "cell_type": "markdown",
   "id": "complicated-laser",
   "metadata": {},
   "source": [
    "## Problem Statement"
   ]
  },
  {
   "cell_type": "markdown",
   "id": "cleared-display",
   "metadata": {},
   "source": [
    "Since the dawn of the 2 party system, Liberals and Conservaties have been at the center of the political scene. As we've seen in recent years, the ideals of both sides couldn't be more diametrically opposed. As such, if we pull the data from posts from the respective subreddits, we should be able to easily classify which post belongs to which subreddit. \n",
    "\n",
    "When fed these posts, can Python predict which subreddit each post belongs to based solely on NLP and word vectorization?"
   ]
  },
  {
   "cell_type": "markdown",
   "id": "running-definition",
   "metadata": {},
   "source": [
    "## Import Libraries"
   ]
  },
  {
   "cell_type": "code",
   "execution_count": 1,
   "id": "continental-singer",
   "metadata": {},
   "outputs": [],
   "source": [
    "import pandas as pd\n",
    "import numpy as np\n",
    "import seaborn as sns\n",
    "import matplotlib.pyplot as plt\n",
    "import requests\n",
    "from sklearn.linear_model import LogisticRegression\n",
    "from sklearn.feature_extraction.text import CountVectorizer, TfidfVectorizer\n",
    "from sklearn.model_selection import train_test_split, GridSearchCV, cross_val_score\n",
    "from sklearn.metrics import confusion_matrix, plot_confusion_matrix\n",
    "from sklearn.pipeline import Pipeline\n",
    "from sklearn.naive_bayes import BernoulliNB\n",
    "from sklearn.ensemble import RandomForestClassifier"
   ]
  },
  {
   "cell_type": "markdown",
   "id": "acting-prototype",
   "metadata": {},
   "source": [
    "## Data Cleaning and EDA \n",
    "Here I begin some exploration and additional cleaning after the major steps of the initial gathering are completed. You will be able to import the concatenated dataframe of both subreddits being used starting in the cell below. "
   ]
  },
  {
   "cell_type": "code",
   "execution_count": 2,
   "id": "patient-satin",
   "metadata": {},
   "outputs": [],
   "source": [
    "df = pd.read_csv('./data/subreddit_complete.csv')"
   ]
  },
  {
   "cell_type": "code",
   "execution_count": 3,
   "id": "about-focus",
   "metadata": {},
   "outputs": [
    {
     "data": {
      "text/plain": [
       "Index(['Unnamed: 0', 'sub', 'title', 'author', 'domain', 'id', 'num_comments',\n",
       "       'score', 'selftext', 'url', 'title_word_count', 'sentiment'],\n",
       "      dtype='object')"
      ]
     },
     "execution_count": 3,
     "metadata": {},
     "output_type": "execute_result"
    }
   ],
   "source": [
    "# I ran into a problem while modeling below and have to rename my subreddit variable\n",
    "df.rename(columns={'subreddit': 'sub'}, inplace=True)\n",
    "df.columns"
   ]
  },
  {
   "cell_type": "code",
   "execution_count": 4,
   "id": "suspended-september",
   "metadata": {},
   "outputs": [],
   "source": [
    "pd.set_option('display.max_colwidth', None)"
   ]
  },
  {
   "cell_type": "code",
   "execution_count": 5,
   "id": "cathedral-office",
   "metadata": {},
   "outputs": [
    {
     "data": {
      "text/html": [
       "<div>\n",
       "<style scoped>\n",
       "    .dataframe tbody tr th:only-of-type {\n",
       "        vertical-align: middle;\n",
       "    }\n",
       "\n",
       "    .dataframe tbody tr th {\n",
       "        vertical-align: top;\n",
       "    }\n",
       "\n",
       "    .dataframe thead th {\n",
       "        text-align: right;\n",
       "    }\n",
       "</style>\n",
       "<table border=\"1\" class=\"dataframe\">\n",
       "  <thead>\n",
       "    <tr style=\"text-align: right;\">\n",
       "      <th></th>\n",
       "      <th>title</th>\n",
       "      <th>title_word_count</th>\n",
       "    </tr>\n",
       "  </thead>\n",
       "  <tbody>\n",
       "    <tr>\n",
       "      <th>0</th>\n",
       "      <td>On behalf of my neanderthal ancestors, I object!</td>\n",
       "      <td>8</td>\n",
       "    </tr>\n",
       "    <tr>\n",
       "      <th>1</th>\n",
       "      <td>You Can't Change This Hatred—You Have to Outnumber It</td>\n",
       "      <td>9</td>\n",
       "    </tr>\n",
       "    <tr>\n",
       "      <th>2</th>\n",
       "      <td>Black teen fails all but 3 classes in 4 years of high school. Ranks near top half of class with a 0.13 GPA.</td>\n",
       "      <td>23</td>\n",
       "    </tr>\n",
       "    <tr>\n",
       "      <th>3</th>\n",
       "      <td>How The Press Enables The GOP’s Big Lie</td>\n",
       "      <td>8</td>\n",
       "    </tr>\n",
       "    <tr>\n",
       "      <th>4</th>\n",
       "      <td>Russian State TV Is Really Missing Trump Now Biden’s Sanctions Hit</td>\n",
       "      <td>11</td>\n",
       "    </tr>\n",
       "  </tbody>\n",
       "</table>\n",
       "</div>"
      ],
      "text/plain": [
       "                                                                                                         title  \\\n",
       "0                                                             On behalf of my neanderthal ancestors, I object!   \n",
       "1                                                        You Can't Change This Hatred—You Have to Outnumber It   \n",
       "2  Black teen fails all but 3 classes in 4 years of high school. Ranks near top half of class with a 0.13 GPA.   \n",
       "3                                                                      How The Press Enables The GOP’s Big Lie   \n",
       "4                                           Russian State TV Is Really Missing Trump Now Biden’s Sanctions Hit   \n",
       "\n",
       "   title_word_count  \n",
       "0                 8  \n",
       "1                 9  \n",
       "2                23  \n",
       "3                 8  \n",
       "4                11  "
      ]
     },
     "execution_count": 5,
     "metadata": {},
     "output_type": "execute_result"
    }
   ],
   "source": [
    "df[['title', 'title_word_count']].head()"
   ]
  },
  {
   "cell_type": "code",
   "execution_count": 6,
   "id": "approved-adventure",
   "metadata": {},
   "outputs": [
    {
     "data": {
      "image/png": "[encoded data removed]",
      "text/plain": [
       "<Figure size 1152x648 with 1 Axes>"
      ]
     },
     "metadata": {
      "needs_background": "light"
     },
     "output_type": "display_data"
    }
   ],
   "source": [
    "plt.figure(figsize=(16,9))\n",
    "sns.histplot(df['title_word_count'], color='purple', alpha=0.7)\n",
    "plt.axvline(x=df['title_word_count'].median(), linewidth=2, linestyle='--', color='orange')\n",
    "plt.xlabel('# of Words in Title', size=16)\n",
    "plt.ylabel('# of Posts', size=16)\n",
    "plt.title('Distribution of Word Counts Across r/liberal & r/conservative', size=24);"
   ]
  },
  {
   "cell_type": "code",
   "execution_count": 7,
   "id": "christian-writer",
   "metadata": {},
   "outputs": [
    {
     "data": {
      "text/plain": [
       "0    0.648936\n",
       "1    0.351064\n",
       "Name: sub, dtype: float64"
      ]
     },
     "execution_count": 7,
     "metadata": {},
     "output_type": "execute_result"
    }
   ],
   "source": [
    "# Repost Alert!\n",
    "duplicated = df[df[['url']].duplicated(keep='first')]\n",
    "duplicated['sub'].value_counts(normalize=True)"
   ]
  },
  {
   "cell_type": "code",
   "execution_count": 8,
   "id": "adopted-conservative",
   "metadata": {},
   "outputs": [
    {
     "data": {
      "text/plain": [
       "(2216, 12)"
      ]
     },
     "execution_count": 8,
     "metadata": {},
     "output_type": "execute_result"
    }
   ],
   "source": [
    "unique_users = df[df.columns].drop_duplicates('author')\n",
    "unique_users.shape"
   ]
  },
  {
   "cell_type": "code",
   "execution_count": 9,
   "id": "recorded-charm",
   "metadata": {},
   "outputs": [
    {
     "name": "stdout",
     "output_type": "stream",
     "text": [
      "The percentage of unique users to the total population of users of both subreddits is: 44.32%\n"
     ]
    }
   ],
   "source": [
    "print(f\"The percentage of unique users to the total population of users of both subreddits is: {(len(unique_users['author']) / len(df['author'])) * 100}%\")"
   ]
  },
  {
   "cell_type": "markdown",
   "id": "crazy-woman",
   "metadata": {},
   "source": [
    "# Explain some of your findings from above here."
   ]
  },
  {
   "cell_type": "code",
   "execution_count": 10,
   "id": "posted-agent",
   "metadata": {},
   "outputs": [
    {
     "data": {
      "text/html": [
       "<div>\n",
       "<style scoped>\n",
       "    .dataframe tbody tr th:only-of-type {\n",
       "        vertical-align: middle;\n",
       "    }\n",
       "\n",
       "    .dataframe tbody tr th {\n",
       "        vertical-align: top;\n",
       "    }\n",
       "\n",
       "    .dataframe thead th {\n",
       "        text-align: right;\n",
       "    }\n",
       "</style>\n",
       "<table border=\"1\" class=\"dataframe\">\n",
       "  <thead>\n",
       "    <tr style=\"text-align: right;\">\n",
       "      <th></th>\n",
       "      <th>0</th>\n",
       "    </tr>\n",
       "  </thead>\n",
       "  <tbody>\n",
       "    <tr>\n",
       "      <th>trump</th>\n",
       "      <td>742</td>\n",
       "    </tr>\n",
       "    <tr>\n",
       "      <th>biden</th>\n",
       "      <td>633</td>\n",
       "    </tr>\n",
       "    <tr>\n",
       "      <th>covid</th>\n",
       "      <td>210</td>\n",
       "    </tr>\n",
       "    <tr>\n",
       "      <th>election</th>\n",
       "      <td>199</td>\n",
       "    </tr>\n",
       "    <tr>\n",
       "      <th>capitol</th>\n",
       "      <td>180</td>\n",
       "    </tr>\n",
       "    <tr>\n",
       "      <th>new</th>\n",
       "      <td>166</td>\n",
       "    </tr>\n",
       "    <tr>\n",
       "      <th>says</th>\n",
       "      <td>164</td>\n",
       "    </tr>\n",
       "    <tr>\n",
       "      <th>white</th>\n",
       "      <td>154</td>\n",
       "    </tr>\n",
       "    <tr>\n",
       "      <th>house</th>\n",
       "      <td>151</td>\n",
       "    </tr>\n",
       "    <tr>\n",
       "      <th>joe</th>\n",
       "      <td>146</td>\n",
       "    </tr>\n",
       "    <tr>\n",
       "      <th>people</th>\n",
       "      <td>131</td>\n",
       "    </tr>\n",
       "    <tr>\n",
       "      <th>democrats</th>\n",
       "      <td>124</td>\n",
       "    </tr>\n",
       "    <tr>\n",
       "      <th>president</th>\n",
       "      <td>122</td>\n",
       "    </tr>\n",
       "    <tr>\n",
       "      <th>cuomo</th>\n",
       "      <td>118</td>\n",
       "    </tr>\n",
       "    <tr>\n",
       "      <th>liberal</th>\n",
       "      <td>110</td>\n",
       "    </tr>\n",
       "    <tr>\n",
       "      <th>texas</th>\n",
       "      <td>109</td>\n",
       "    </tr>\n",
       "    <tr>\n",
       "      <th>conservative</th>\n",
       "      <td>106</td>\n",
       "    </tr>\n",
       "    <tr>\n",
       "      <th>gop</th>\n",
       "      <td>105</td>\n",
       "    </tr>\n",
       "    <tr>\n",
       "      <th>video</th>\n",
       "      <td>103</td>\n",
       "    </tr>\n",
       "    <tr>\n",
       "      <th>just</th>\n",
       "      <td>103</td>\n",
       "    </tr>\n",
       "    <tr>\n",
       "      <th>republicans</th>\n",
       "      <td>101</td>\n",
       "    </tr>\n",
       "    <tr>\n",
       "      <th>america</th>\n",
       "      <td>100</td>\n",
       "    </tr>\n",
       "    <tr>\n",
       "      <th>right</th>\n",
       "      <td>95</td>\n",
       "    </tr>\n",
       "    <tr>\n",
       "      <th>dr</th>\n",
       "      <td>95</td>\n",
       "    </tr>\n",
       "    <tr>\n",
       "      <th>news</th>\n",
       "      <td>92</td>\n",
       "    </tr>\n",
       "  </tbody>\n",
       "</table>\n",
       "</div>"
      ],
      "text/plain": [
       "                0\n",
       "trump         742\n",
       "biden         633\n",
       "covid         210\n",
       "election      199\n",
       "capitol       180\n",
       "new           166\n",
       "says          164\n",
       "white         154\n",
       "house         151\n",
       "joe           146\n",
       "people        131\n",
       "democrats     124\n",
       "president     122\n",
       "cuomo         118\n",
       "liberal       110\n",
       "texas         109\n",
       "conservative  106\n",
       "gop           105\n",
       "video         103\n",
       "just          103\n",
       "republicans   101\n",
       "america       100\n",
       "right          95\n",
       "dr             95\n",
       "news           92"
      ]
     },
     "execution_count": 10,
     "metadata": {},
     "output_type": "execute_result"
    }
   ],
   "source": [
    "# Inspiration from: https://medium.com/bigpanda-engineering/exploratory-data-analysis-for-text-data-29cf7dd54eb8\n",
    "cvec = CountVectorizer(stop_words='english')\n",
    "counts = cvec.fit_transform(df['title'])\n",
    "pd.DataFrame(counts.sum(axis=0), columns=cvec.get_feature_names()).T.sort_values(0, ascending=False).head(25)"
   ]
  },
  {
   "cell_type": "code",
   "execution_count": 11,
   "id": "disturbed-gazette",
   "metadata": {},
   "outputs": [],
   "source": [
    "from wordcloud import WordCloud"
   ]
  },
  {
   "cell_type": "code",
   "execution_count": null,
   "id": "promising-sculpture",
   "metadata": {},
   "outputs": [],
   "source": []
  },
  {
   "cell_type": "code",
   "execution_count": 12,
   "id": "extensive-employee",
   "metadata": {},
   "outputs": [
    {
     "data": {
      "text/html": [
       "<div>\n",
       "<style scoped>\n",
       "    .dataframe tbody tr th:only-of-type {\n",
       "        vertical-align: middle;\n",
       "    }\n",
       "\n",
       "    .dataframe tbody tr th {\n",
       "        vertical-align: top;\n",
       "    }\n",
       "\n",
       "    .dataframe thead th {\n",
       "        text-align: right;\n",
       "    }\n",
       "</style>\n",
       "<table border=\"1\" class=\"dataframe\">\n",
       "  <thead>\n",
       "    <tr style=\"text-align: right;\">\n",
       "      <th></th>\n",
       "      <th>0</th>\n",
       "    </tr>\n",
       "  </thead>\n",
       "  <tbody>\n",
       "    <tr>\n",
       "      <th>joe biden</th>\n",
       "      <td>122</td>\n",
       "    </tr>\n",
       "    <tr>\n",
       "      <th>covid 19</th>\n",
       "      <td>86</td>\n",
       "    </tr>\n",
       "    <tr>\n",
       "      <th>donald trump</th>\n",
       "      <td>78</td>\n",
       "    </tr>\n",
       "    <tr>\n",
       "      <th>dr seuss</th>\n",
       "      <td>72</td>\n",
       "    </tr>\n",
       "    <tr>\n",
       "      <th>white house</th>\n",
       "      <td>69</td>\n",
       "    </tr>\n",
       "    <tr>\n",
       "      <th>cancel culture</th>\n",
       "      <td>36</td>\n",
       "    </tr>\n",
       "    <tr>\n",
       "      <th>capitol riot</th>\n",
       "      <td>35</td>\n",
       "    </tr>\n",
       "    <tr>\n",
       "      <th>mask mandate</th>\n",
       "      <td>32</td>\n",
       "    </tr>\n",
       "    <tr>\n",
       "      <th>trump supporters</th>\n",
       "      <td>32</td>\n",
       "    </tr>\n",
       "    <tr>\n",
       "      <th>andrew cuomo</th>\n",
       "      <td>29</td>\n",
       "    </tr>\n",
       "    <tr>\n",
       "      <th>equality act</th>\n",
       "      <td>28</td>\n",
       "    </tr>\n",
       "    <tr>\n",
       "      <th>supreme court</th>\n",
       "      <td>26</td>\n",
       "    </tr>\n",
       "    <tr>\n",
       "      <th>national guard</th>\n",
       "      <td>25</td>\n",
       "    </tr>\n",
       "    <tr>\n",
       "      <th>minimum wage</th>\n",
       "      <td>24</td>\n",
       "    </tr>\n",
       "    <tr>\n",
       "      <th>covid relief</th>\n",
       "      <td>22</td>\n",
       "    </tr>\n",
       "    <tr>\n",
       "      <th>stimulus checks</th>\n",
       "      <td>21</td>\n",
       "    </tr>\n",
       "    <tr>\n",
       "      <th>biden administration</th>\n",
       "      <td>21</td>\n",
       "    </tr>\n",
       "    <tr>\n",
       "      <th>new york</th>\n",
       "      <td>20</td>\n",
       "    </tr>\n",
       "    <tr>\n",
       "      <th>mitch mcconnell</th>\n",
       "      <td>19</td>\n",
       "    </tr>\n",
       "    <tr>\n",
       "      <th>president trump</th>\n",
       "      <td>19</td>\n",
       "    </tr>\n",
       "    <tr>\n",
       "      <th>fox news</th>\n",
       "      <td>19</td>\n",
       "    </tr>\n",
       "    <tr>\n",
       "      <th>far right</th>\n",
       "      <td>19</td>\n",
       "    </tr>\n",
       "    <tr>\n",
       "      <th>capitol police</th>\n",
       "      <td>18</td>\n",
       "    </tr>\n",
       "    <tr>\n",
       "      <th>big tech</th>\n",
       "      <td>18</td>\n",
       "    </tr>\n",
       "    <tr>\n",
       "      <th>biden says</th>\n",
       "      <td>18</td>\n",
       "    </tr>\n",
       "  </tbody>\n",
       "</table>\n",
       "</div>"
      ],
      "text/plain": [
       "                        0\n",
       "joe biden             122\n",
       "covid 19               86\n",
       "donald trump           78\n",
       "dr seuss               72\n",
       "white house            69\n",
       "cancel culture         36\n",
       "capitol riot           35\n",
       "mask mandate           32\n",
       "trump supporters       32\n",
       "andrew cuomo           29\n",
       "equality act           28\n",
       "supreme court          26\n",
       "national guard         25\n",
       "minimum wage           24\n",
       "covid relief           22\n",
       "stimulus checks        21\n",
       "biden administration   21\n",
       "new york               20\n",
       "mitch mcconnell        19\n",
       "president trump        19\n",
       "fox news               19\n",
       "far right              19\n",
       "capitol police         18\n",
       "big tech               18\n",
       "biden says             18"
      ]
     },
     "execution_count": 12,
     "metadata": {},
     "output_type": "execute_result"
    }
   ],
   "source": [
    "cvec_ngram = CountVectorizer(ngram_range=(2,2), stop_words='english')\n",
    "counts_ngram = cvec_ngram.fit_transform(df.title)\n",
    "pd.DataFrame(counts_ngram.sum(axis=0), columns=cvec_ngram.get_feature_names()).T.sort_values(0, ascending=False).head(25)"
   ]
  },
  {
   "cell_type": "code",
   "execution_count": 13,
   "id": "human-marsh",
   "metadata": {},
   "outputs": [
    {
     "data": {
      "text/html": [
       "<div>\n",
       "<style scoped>\n",
       "    .dataframe tbody tr th:only-of-type {\n",
       "        vertical-align: middle;\n",
       "    }\n",
       "\n",
       "    .dataframe tbody tr th {\n",
       "        vertical-align: top;\n",
       "    }\n",
       "\n",
       "    .dataframe thead th {\n",
       "        text-align: right;\n",
       "    }\n",
       "</style>\n",
       "<table border=\"1\" class=\"dataframe\">\n",
       "  <thead>\n",
       "    <tr style=\"text-align: right;\">\n",
       "      <th></th>\n",
       "      <th>author</th>\n",
       "      <th>number_of_posts</th>\n",
       "    </tr>\n",
       "  </thead>\n",
       "  <tbody>\n",
       "    <tr>\n",
       "      <th>0</th>\n",
       "      <td>SpaceRocker420</td>\n",
       "      <td>250</td>\n",
       "    </tr>\n",
       "    <tr>\n",
       "      <th>1</th>\n",
       "      <td>Walk1000Miles</td>\n",
       "      <td>112</td>\n",
       "    </tr>\n",
       "    <tr>\n",
       "      <th>2</th>\n",
       "      <td>Havvocck2</td>\n",
       "      <td>88</td>\n",
       "    </tr>\n",
       "    <tr>\n",
       "      <th>3</th>\n",
       "      <td>canfbar</td>\n",
       "      <td>82</td>\n",
       "    </tr>\n",
       "    <tr>\n",
       "      <th>4</th>\n",
       "      <td>Winterhold2000</td>\n",
       "      <td>79</td>\n",
       "    </tr>\n",
       "    <tr>\n",
       "      <th>5</th>\n",
       "      <td>guanaco55</td>\n",
       "      <td>76</td>\n",
       "    </tr>\n",
       "    <tr>\n",
       "      <th>6</th>\n",
       "      <td>nimobo</td>\n",
       "      <td>69</td>\n",
       "    </tr>\n",
       "    <tr>\n",
       "      <th>7</th>\n",
       "      <td>spaceghoti</td>\n",
       "      <td>60</td>\n",
       "    </tr>\n",
       "    <tr>\n",
       "      <th>8</th>\n",
       "      <td>Foubar_ghost</td>\n",
       "      <td>56</td>\n",
       "    </tr>\n",
       "    <tr>\n",
       "      <th>9</th>\n",
       "      <td>f1sh98</td>\n",
       "      <td>54</td>\n",
       "    </tr>\n",
       "    <tr>\n",
       "      <th>10</th>\n",
       "      <td>crap_eagle</td>\n",
       "      <td>54</td>\n",
       "    </tr>\n",
       "    <tr>\n",
       "      <th>11</th>\n",
       "      <td>johntwit</td>\n",
       "      <td>44</td>\n",
       "    </tr>\n",
       "    <tr>\n",
       "      <th>12</th>\n",
       "      <td>JPRedScot</td>\n",
       "      <td>39</td>\n",
       "    </tr>\n",
       "    <tr>\n",
       "      <th>13</th>\n",
       "      <td>bugleweed</td>\n",
       "      <td>37</td>\n",
       "    </tr>\n",
       "    <tr>\n",
       "      <th>14</th>\n",
       "      <td>JesusCumelette</td>\n",
       "      <td>36</td>\n",
       "    </tr>\n",
       "    <tr>\n",
       "      <th>15</th>\n",
       "      <td>javaxcore</td>\n",
       "      <td>36</td>\n",
       "    </tr>\n",
       "    <tr>\n",
       "      <th>16</th>\n",
       "      <td>ChunkyArsenio</td>\n",
       "      <td>31</td>\n",
       "    </tr>\n",
       "    <tr>\n",
       "      <th>17</th>\n",
       "      <td>bobbyw24</td>\n",
       "      <td>31</td>\n",
       "    </tr>\n",
       "    <tr>\n",
       "      <th>18</th>\n",
       "      <td>Wong_John</td>\n",
       "      <td>30</td>\n",
       "    </tr>\n",
       "    <tr>\n",
       "      <th>19</th>\n",
       "      <td>Newman1651</td>\n",
       "      <td>23</td>\n",
       "    </tr>\n",
       "    <tr>\n",
       "      <th>20</th>\n",
       "      <td>ThePoliticalHat</td>\n",
       "      <td>20</td>\n",
       "    </tr>\n",
       "    <tr>\n",
       "      <th>21</th>\n",
       "      <td>progress18</td>\n",
       "      <td>19</td>\n",
       "    </tr>\n",
       "    <tr>\n",
       "      <th>22</th>\n",
       "      <td>walter1950</td>\n",
       "      <td>19</td>\n",
       "    </tr>\n",
       "    <tr>\n",
       "      <th>23</th>\n",
       "      <td>intelligentreviews</td>\n",
       "      <td>19</td>\n",
       "    </tr>\n",
       "    <tr>\n",
       "      <th>24</th>\n",
       "      <td>praguer56</td>\n",
       "      <td>19</td>\n",
       "    </tr>\n",
       "  </tbody>\n",
       "</table>\n",
       "</div>"
      ],
      "text/plain": [
       "                author number_of_posts\n",
       "0       SpaceRocker420             250\n",
       "1        Walk1000Miles             112\n",
       "2            Havvocck2              88\n",
       "3              canfbar              82\n",
       "4       Winterhold2000              79\n",
       "5            guanaco55              76\n",
       "6               nimobo              69\n",
       "7           spaceghoti              60\n",
       "8         Foubar_ghost              56\n",
       "9               f1sh98              54\n",
       "10          crap_eagle              54\n",
       "11            johntwit              44\n",
       "12           JPRedScot              39\n",
       "13           bugleweed              37\n",
       "14      JesusCumelette              36\n",
       "15           javaxcore              36\n",
       "16       ChunkyArsenio              31\n",
       "17            bobbyw24              31\n",
       "18           Wong_John              30\n",
       "19          Newman1651              23\n",
       "20     ThePoliticalHat              20\n",
       "21          progress18              19\n",
       "22          walter1950              19\n",
       "23  intelligentreviews              19\n",
       "24           praguer56              19"
      ]
     },
     "execution_count": 13,
     "metadata": {},
     "output_type": "execute_result"
    }
   ],
   "source": [
    "# https://stackoverflow.com/a/49661812\n",
    "author = pd.DataFrame(df['author'].value_counts().reset_index().values, columns=['author', 'number_of_posts']).head(26)\n",
    "author.drop(labels=0, axis=0, inplace=True) # Drop [deleted] users' posts\n",
    "author.reset_index(drop=True, inplace=True)\n",
    "author"
   ]
  },
  {
   "cell_type": "code",
   "execution_count": 14,
   "id": "german-medicaid",
   "metadata": {
    "scrolled": true
   },
   "outputs": [
    {
     "data": {
      "image/png": "[encoded data removed]",
      "text/plain": [
       "<Figure size 1152x648 with 1 Axes>"
      ]
     },
     "metadata": {
      "needs_background": "light"
     },
     "output_type": "display_data"
    }
   ],
   "source": [
    "plt.figure(figsize=(16,9))\n",
    "sns.barplot(y=author['author'], x=author['number_of_posts'])\n",
    "plt.xlabel('Number of Posts', size=16)\n",
    "plt.ylabel('Username', size=16)\n",
    "plt.xticks(size=14)\n",
    "plt.yticks(size=14)\n",
    "plt.title('Top 25 Posters in r/liberal & r/conservative', size=24);\n"
   ]
  },
  {
   "cell_type": "code",
   "execution_count": 15,
   "id": "lined-findings",
   "metadata": {},
   "outputs": [],
   "source": [
    "counts = pd.DataFrame(counts.todense(), columns=cvec.get_feature_names())"
   ]
  },
  {
   "cell_type": "code",
   "execution_count": 16,
   "id": "painful-whole",
   "metadata": {},
   "outputs": [],
   "source": [
    "# Dropping the subreddit column from the count vectorized dataframe\n",
    "counts.drop(columns=['sub'], inplace=True)"
   ]
  },
  {
   "cell_type": "code",
   "execution_count": 17,
   "id": "whole-blanket",
   "metadata": {},
   "outputs": [
    {
     "data": {
      "text/html": [
       "<div>\n",
       "<style scoped>\n",
       "    .dataframe tbody tr th:only-of-type {\n",
       "        vertical-align: middle;\n",
       "    }\n",
       "\n",
       "    .dataframe tbody tr th {\n",
       "        vertical-align: top;\n",
       "    }\n",
       "\n",
       "    .dataframe thead th {\n",
       "        text-align: right;\n",
       "    }\n",
       "</style>\n",
       "<table border=\"1\" class=\"dataframe\">\n",
       "  <thead>\n",
       "    <tr style=\"text-align: right;\">\n",
       "      <th></th>\n",
       "      <th>Unnamed: 0</th>\n",
       "      <th>sub</th>\n",
       "      <th>title</th>\n",
       "      <th>author</th>\n",
       "      <th>domain</th>\n",
       "      <th>id</th>\n",
       "      <th>num_comments</th>\n",
       "      <th>score</th>\n",
       "      <th>selftext</th>\n",
       "      <th>url</th>\n",
       "      <th>...</th>\n",
       "      <th>накануне</th>\n",
       "      <th>нефть</th>\n",
       "      <th>отыгрывая</th>\n",
       "      <th>перешла</th>\n",
       "      <th>российской</th>\n",
       "      <th>росту</th>\n",
       "      <th>снижение</th>\n",
       "      <th>спутник</th>\n",
       "      <th>стремительному</th>\n",
       "      <th>успеть</th>\n",
       "    </tr>\n",
       "  </thead>\n",
       "  <tbody>\n",
       "    <tr>\n",
       "      <th>0</th>\n",
       "      <td>0</td>\n",
       "      <td>1</td>\n",
       "      <td>On behalf of my neanderthal ancestors, I object!</td>\n",
       "      <td>MisanthropicScott</td>\n",
       "      <td>self.Liberal</td>\n",
       "      <td>ly2nha</td>\n",
       "      <td>0</td>\n",
       "      <td>1</td>\n",
       "      <td>[removed]</td>\n",
       "      <td>https://www.reddit.com/r/Liberal/comments/ly2nha/on_behalf_of_my_neanderthal_ancestors_i_object/</td>\n",
       "      <td>...</td>\n",
       "      <td>0</td>\n",
       "      <td>0</td>\n",
       "      <td>0</td>\n",
       "      <td>0</td>\n",
       "      <td>0</td>\n",
       "      <td>0</td>\n",
       "      <td>0</td>\n",
       "      <td>0</td>\n",
       "      <td>0</td>\n",
       "      <td>0</td>\n",
       "    </tr>\n",
       "  </tbody>\n",
       "</table>\n",
       "<p>1 rows × 8888 columns</p>\n",
       "</div>"
      ],
      "text/plain": [
       "   Unnamed: 0  sub                                             title  \\\n",
       "0           0    1  On behalf of my neanderthal ancestors, I object!   \n",
       "\n",
       "              author        domain      id  num_comments  score   selftext  \\\n",
       "0  MisanthropicScott  self.Liberal  ly2nha             0      1  [removed]   \n",
       "\n",
       "                                                                                                url  \\\n",
       "0  https://www.reddit.com/r/Liberal/comments/ly2nha/on_behalf_of_my_neanderthal_ancestors_i_object/   \n",
       "\n",
       "   ...  накануне нефть  отыгрывая  перешла  российской  росту  снижение  \\\n",
       "0  ...         0     0          0        0           0      0         0   \n",
       "\n",
       "   спутник  стремительному  успеть  \n",
       "0        0               0       0  \n",
       "\n",
       "[1 rows x 8888 columns]"
      ]
     },
     "execution_count": 17,
     "metadata": {},
     "output_type": "execute_result"
    }
   ],
   "source": [
    "df_vec = pd.concat([df, counts], axis=1)\n",
    "df_vec.head(1)"
   ]
  },
  {
   "cell_type": "code",
   "execution_count": 18,
   "id": "suitable-chain",
   "metadata": {},
   "outputs": [],
   "source": [
    "X = df['title']\n",
    "y = df['sub']\n",
    "\n",
    "X_train, X_test, y_train, y_test = train_test_split(X,\n",
    "                                                    y,\n",
    "                                                    test_size=0.33,\n",
    "                                                    random_state=42,\n",
    "                                                    stratify=y)"
   ]
  },
  {
   "cell_type": "code",
   "execution_count": 19,
   "id": "responsible-canberra",
   "metadata": {},
   "outputs": [
    {
     "data": {
      "text/plain": [
       "0    0.5\n",
       "1    0.5\n",
       "Name: sub, dtype: float64"
      ]
     },
     "execution_count": 19,
     "metadata": {},
     "output_type": "execute_result"
    }
   ],
   "source": [
    "# Baseline Accuracy\n",
    "y_test.value_counts(normalize=True)"
   ]
  },
  {
   "cell_type": "markdown",
   "id": "encouraging-current",
   "metadata": {},
   "source": [
    "## Logistic Regression"
   ]
  },
  {
   "cell_type": "code",
   "execution_count": 20,
   "id": "frozen-spotlight",
   "metadata": {},
   "outputs": [],
   "source": [
    "lr_pipe = Pipeline([\n",
    "    ('cv', CountVectorizer(stop_words='english')),\n",
    "    ('lr', LogisticRegression())\n",
    "])\n",
    "\n",
    "lr_params = {\n",
    "    'cv__ngram_range': [(1,1), (1,2), (2,2)]\n",
    "}"
   ]
  },
  {
   "cell_type": "code",
   "execution_count": 21,
   "id": "wrapped-madrid",
   "metadata": {},
   "outputs": [
    {
     "data": {
      "text/plain": [
       "GridSearchCV(cv=10,\n",
       "             estimator=Pipeline(steps=[('cv',\n",
       "                                        CountVectorizer(stop_words='english')),\n",
       "                                       ('lr', LogisticRegression())]),\n",
       "             param_grid={'cv__ngram_range': [(1, 1), (1, 2), (2, 2)]})"
      ]
     },
     "execution_count": 21,
     "metadata": {},
     "output_type": "execute_result"
    }
   ],
   "source": [
    "lr_gs = GridSearchCV(lr_pipe,\n",
    "                     param_grid=lr_params,\n",
    "                    cv=10)\n",
    "\n",
    "lr_gs.fit(X_train, y_train)"
   ]
  },
  {
   "cell_type": "code",
   "execution_count": 22,
   "id": "important-issue",
   "metadata": {},
   "outputs": [
    {
     "name": "stdout",
     "output_type": "stream",
     "text": [
      "0.9883582089552239\n",
      "0.7242424242424242\n"
     ]
    }
   ],
   "source": [
    "print(lr_gs.score(X_train, y_train))\n",
    "print(lr_gs.score(X_test, y_test))"
   ]
  },
  {
   "cell_type": "code",
   "execution_count": 23,
   "id": "noble-brunei",
   "metadata": {},
   "outputs": [
    {
     "data": {
      "image/png": "[encoded data removed]",
      "text/plain": [
       "<Figure size 432x288 with 2 Axes>"
      ]
     },
     "metadata": {
      "needs_background": "light"
     },
     "output_type": "display_data"
    }
   ],
   "source": [
    "plot_confusion_matrix(lr_gs, X_test, y_test, cmap='binary')\n",
    "plt.title('Logistic Regression Confusion Matrix');"
   ]
  },
  {
   "cell_type": "markdown",
   "id": "likely-heaven",
   "metadata": {},
   "source": [
    "## Count Vectorizer & Bernoulli Naive Bayes"
   ]
  },
  {
   "cell_type": "markdown",
   "id": "multiple-constraint",
   "metadata": {},
   "source": [
    "Beyond simple logistic regression, the first model I attempted to fit is the Bernoulli model with a count vectorizer in a pipeline. With no parameter tuning, the model performed reasonably well, with a testing accuracy of 71%  as a start before parameter tuning. \n",
    "\n",
    "At first, parameter tuning was a trial and error process. I plugged in parameters based on our lessons on the models, and I started to tweak those parameters further as I got more results, until the scores levelled out. However, parameter tuning ultimately did not improve my accuracy scores beyond my initial modeling.\n",
    "\n",
    "Custom stopwords were attempted based on high frequency of appearance in the EDA process, however, the selected words only served to make my model worse, so they were ultimately not used."
   ]
  },
  {
   "cell_type": "markdown",
   "id": "compatible-application",
   "metadata": {},
   "source": [
    "### Count Vectorizer & BNB Classifier"
   ]
  },
  {
   "cell_type": "code",
   "execution_count": 24,
   "id": "velvet-device",
   "metadata": {},
   "outputs": [],
   "source": [
    "# stops = ['left', 'president', 'america', 'trump', 'capitol', 'black', 'white', 'people', 'time', 'biden', 'house', 'want', 'new', 'just', 'covid', 'gop', 'conservative', 'says', 'democrats', 'joe', 'video', 'police', 'senate', 'election']"
   ]
  },
  {
   "cell_type": "code",
   "execution_count": 25,
   "id": "dangerous-sauce",
   "metadata": {},
   "outputs": [],
   "source": [
    "pipe = Pipeline([\n",
    "    ('cv', CountVectorizer(stop_words='english')),\n",
    "    ('bnb', BernoulliNB())\n",
    "])"
   ]
  },
  {
   "cell_type": "code",
   "execution_count": 26,
   "id": "champion-swimming",
   "metadata": {},
   "outputs": [],
   "source": [
    "pipe_params = {\n",
    "    'cv__max_features': [4000],\n",
    "    'cv__min_df': [2],\n",
    "    'cv__max_df': [0.9],\n",
    "    'cv__ngram_range': [(1,2)]\n",
    "}"
   ]
  },
  {
   "cell_type": "code",
   "execution_count": 27,
   "id": "distinguished-consumer",
   "metadata": {},
   "outputs": [],
   "source": [
    "gs = GridSearchCV(pipe,\n",
    "                 pipe_params,\n",
    "                 cv=10)"
   ]
  },
  {
   "cell_type": "code",
   "execution_count": 28,
   "id": "useful-recorder",
   "metadata": {},
   "outputs": [
    {
     "data": {
      "text/plain": [
       "GridSearchCV(cv=10,\n",
       "             estimator=Pipeline(steps=[('cv',\n",
       "                                        CountVectorizer(stop_words='english')),\n",
       "                                       ('bnb', BernoulliNB())]),\n",
       "             param_grid={'cv__max_df': [0.9], 'cv__max_features': [4000],\n",
       "                         'cv__min_df': [2], 'cv__ngram_range': [(1, 2)]})"
      ]
     },
     "execution_count": 28,
     "metadata": {},
     "output_type": "execute_result"
    }
   ],
   "source": [
    "gs.fit(X_train, y_train)"
   ]
  },
  {
   "cell_type": "code",
   "execution_count": 29,
   "id": "municipal-radical",
   "metadata": {},
   "outputs": [
    {
     "data": {
      "text/plain": [
       "{'cv__max_df': 0.9,\n",
       " 'cv__max_features': 4000,\n",
       " 'cv__min_df': 2,\n",
       " 'cv__ngram_range': (1, 2)}"
      ]
     },
     "execution_count": 29,
     "metadata": {},
     "output_type": "execute_result"
    }
   ],
   "source": [
    "# print(gs.best_score_)\n",
    "gs.best_params_"
   ]
  },
  {
   "cell_type": "code",
   "execution_count": 30,
   "id": "coordinated-property",
   "metadata": {},
   "outputs": [],
   "source": [
    "# print(gs.score(X_train, y_train))\n",
    "# print(gs.score(X_test, y_test))\n",
    "model = gs.best_estimator_"
   ]
  },
  {
   "cell_type": "code",
   "execution_count": 31,
   "id": "superior-things",
   "metadata": {},
   "outputs": [],
   "source": [
    "mnb_preds = gs.predict(X_test)"
   ]
  },
  {
   "cell_type": "code",
   "execution_count": 32,
   "id": "agreed-plymouth",
   "metadata": {},
   "outputs": [
    {
     "data": {
      "text/plain": [
       "Pipeline(steps=[('cv',\n",
       "                 CountVectorizer(max_df=0.9, max_features=4000, min_df=2,\n",
       "                                 ngram_range=(1, 2), stop_words='english')),\n",
       "                ('bnb', BernoulliNB())])"
      ]
     },
     "execution_count": 32,
     "metadata": {},
     "output_type": "execute_result"
    }
   ],
   "source": [
    "model.fit(X_train, y_train)"
   ]
  },
  {
   "cell_type": "code",
   "execution_count": 33,
   "id": "prescription-morris",
   "metadata": {},
   "outputs": [
    {
     "name": "stdout",
     "output_type": "stream",
     "text": [
      "0.8340298507462687\n",
      "0.7115151515151515\n"
     ]
    }
   ],
   "source": [
    "print(model.score(X_train, y_train))\n",
    "print(model.score(X_test, y_test))"
   ]
  },
  {
   "cell_type": "code",
   "execution_count": 34,
   "id": "funny-fever",
   "metadata": {},
   "outputs": [
    {
     "data": {
      "image/png": "[encoded data removed]",
      "text/plain": [
       "<Figure size 432x288 with 2 Axes>"
      ]
     },
     "metadata": {
      "needs_background": "light"
     },
     "output_type": "display_data"
    }
   ],
   "source": [
    "plot_confusion_matrix(model, X_test, y_test, cmap='OrRd', values_format='d')\n",
    "plt.title('Bernoulli NB Initial Model');"
   ]
  },
  {
   "cell_type": "markdown",
   "id": "innovative-appendix",
   "metadata": {},
   "source": [
    "### BNB Parameter Tuning"
   ]
  },
  {
   "cell_type": "code",
   "execution_count": 35,
   "id": "appropriate-ticket",
   "metadata": {},
   "outputs": [],
   "source": [
    "pipe_params_2 = {\n",
    "    'cv__max_features': [4000],\n",
    "    'cv__min_df': [2],\n",
    "    'cv__max_df': [0.95],\n",
    "    'cv__ngram_range': [(1,2)],    \n",
    "}"
   ]
  },
  {
   "cell_type": "code",
   "execution_count": 36,
   "id": "nuclear-business",
   "metadata": {},
   "outputs": [],
   "source": [
    "gs_2 = GridSearchCV(pipe,\n",
    "                   pipe_params_2,\n",
    "                   cv=5,\n",
    "                   n_jobs=5)"
   ]
  },
  {
   "cell_type": "code",
   "execution_count": 37,
   "id": "incorrect-nightlife",
   "metadata": {},
   "outputs": [
    {
     "data": {
      "text/plain": [
       "GridSearchCV(cv=5,\n",
       "             estimator=Pipeline(steps=[('cv',\n",
       "                                        CountVectorizer(stop_words='english')),\n",
       "                                       ('bnb', BernoulliNB())]),\n",
       "             n_jobs=5,\n",
       "             param_grid={'cv__max_df': [0.95], 'cv__max_features': [4000],\n",
       "                         'cv__min_df': [2], 'cv__ngram_range': [(1, 2)]})"
      ]
     },
     "execution_count": 37,
     "metadata": {},
     "output_type": "execute_result"
    }
   ],
   "source": [
    "gs_2.fit(X_train, y_train)"
   ]
  },
  {
   "cell_type": "code",
   "execution_count": 38,
   "id": "ordinary-inspiration",
   "metadata": {},
   "outputs": [
    {
     "name": "stdout",
     "output_type": "stream",
     "text": [
      "{'cv__max_df': 0.95, 'cv__max_features': 4000, 'cv__min_df': 2, 'cv__ngram_range': (1, 2)}\n"
     ]
    }
   ],
   "source": [
    "# print(gs.best_params_)\n",
    "print(gs_2.best_params_)"
   ]
  },
  {
   "cell_type": "code",
   "execution_count": 39,
   "id": "structured-miami",
   "metadata": {},
   "outputs": [
    {
     "name": "stdout",
     "output_type": "stream",
     "text": [
      "0.8340298507462687\n",
      "0.7115151515151515\n"
     ]
    }
   ],
   "source": [
    "print(gs_2.score(X_train, y_train))\n",
    "print(gs_2.score(X_test, y_test))"
   ]
  },
  {
   "cell_type": "code",
   "execution_count": 40,
   "id": "passive-alliance",
   "metadata": {},
   "outputs": [
    {
     "data": {
      "text/plain": [
       "Pipeline(steps=[('cv',\n",
       "                 CountVectorizer(max_df=0.95, max_features=4000, min_df=2,\n",
       "                                 ngram_range=(1, 2), stop_words='english')),\n",
       "                ('bnb', BernoulliNB())])"
      ]
     },
     "execution_count": 40,
     "metadata": {},
     "output_type": "execute_result"
    }
   ],
   "source": [
    "gs_2.best_estimator_"
   ]
  },
  {
   "cell_type": "code",
   "execution_count": 41,
   "id": "fitting-going",
   "metadata": {},
   "outputs": [],
   "source": [
    "best_pipe_bnb = gs_2.best_estimator_"
   ]
  },
  {
   "cell_type": "code",
   "execution_count": 42,
   "id": "theoretical-comparison",
   "metadata": {},
   "outputs": [
    {
     "data": {
      "text/plain": [
       "Pipeline(steps=[('cv',\n",
       "                 CountVectorizer(max_df=0.95, max_features=4000, min_df=2,\n",
       "                                 ngram_range=(1, 2), stop_words='english')),\n",
       "                ('bnb', BernoulliNB())])"
      ]
     },
     "execution_count": 42,
     "metadata": {},
     "output_type": "execute_result"
    }
   ],
   "source": [
    "best_pipe_bnb.fit(X_train, y_train)"
   ]
  },
  {
   "cell_type": "code",
   "execution_count": 43,
   "id": "advance-argument",
   "metadata": {},
   "outputs": [
    {
     "name": "stdout",
     "output_type": "stream",
     "text": [
      "0.8340298507462687\n",
      "0.7115151515151515\n"
     ]
    }
   ],
   "source": [
    "print(best_pipe_bnb.score(X_train, y_train))\n",
    "print(best_pipe_bnb.score(X_test, y_test))"
   ]
  },
  {
   "cell_type": "code",
   "execution_count": 44,
   "id": "leading-amateur",
   "metadata": {},
   "outputs": [
    {
     "data": {
      "image/png": "[encoded data removed]",
      "text/plain": [
       "<Figure size 432x288 with 2 Axes>"
      ]
     },
     "metadata": {
      "needs_background": "light"
     },
     "output_type": "display_data"
    }
   ],
   "source": [
    "plot_confusion_matrix(best_pipe_bnb, X_test, y_test, cmap='OrRd')\n",
    "plt.title('Bernoulli NB Best Estimator');"
   ]
  },
  {
   "cell_type": "markdown",
   "id": "functional-treat",
   "metadata": {},
   "source": [
    "## TFIDF & Bernoulli Naive Bayes\n",
    "\n",
    "I decided to keep going with the Naive Bayes model, but instead using TFIDF instead of a count vectorizer. Ultimately, this turned out being the best model after parameter tuning. Once again, I started with parameters pulled from our in class lessons to determine a starting point, then began tinkering with parameters again until my scores levelled out. \n",
    "\n",
    "As I was tuning parameters, I kept shifting around the best ones while removing those that changed, so as to keep processing time and power as minimal as possible. \n",
    "\n",
    "The model performed better at classifying the True Positive (predicting r/liberal in this case) than it did the alternative, perhaps because the posts in r/liberal tend to be overall wordier than in r/conservative. "
   ]
  },
  {
   "cell_type": "markdown",
   "id": "aerial-singing",
   "metadata": {},
   "source": [
    "### TFIDF/BNB Classifier"
   ]
  },
  {
   "cell_type": "code",
   "execution_count": 45,
   "id": "controlled-fever",
   "metadata": {},
   "outputs": [],
   "source": [
    "tfidf_pipe = Pipeline([\n",
    "    ('tfidf', TfidfVectorizer()),\n",
    "    ('bnb', BernoulliNB())\n",
    "])"
   ]
  },
  {
   "cell_type": "code",
   "execution_count": 46,
   "id": "unlikely-jenny",
   "metadata": {},
   "outputs": [],
   "source": [
    "tfidf_pipe_params = {\n",
    "    'tfidf__stop_words': [None, 'english'],\n",
    "    'tfidf__max_features': [2000, 3000, 4000, 5000],\n",
    "    'tfidf__ngram_range': [(1,1), (1,2), (2,2)]\n",
    "}"
   ]
  },
  {
   "cell_type": "code",
   "execution_count": 47,
   "id": "elect-memorabilia",
   "metadata": {},
   "outputs": [],
   "source": [
    "tfidf_gs = GridSearchCV(tfidf_pipe,\n",
    "                   tfidf_pipe_params,\n",
    "                   cv=10,\n",
    "                   n_jobs=4)"
   ]
  },
  {
   "cell_type": "code",
   "execution_count": 48,
   "id": "virgin-frontier",
   "metadata": {},
   "outputs": [
    {
     "data": {
      "text/plain": [
       "GridSearchCV(cv=10,\n",
       "             estimator=Pipeline(steps=[('tfidf', TfidfVectorizer()),\n",
       "                                       ('bnb', BernoulliNB())]),\n",
       "             n_jobs=4,\n",
       "             param_grid={'tfidf__max_features': [2000, 3000, 4000, 5000],\n",
       "                         'tfidf__ngram_range': [(1, 1), (1, 2), (2, 2)],\n",
       "                         'tfidf__stop_words': [None, 'english']})"
      ]
     },
     "execution_count": 48,
     "metadata": {},
     "output_type": "execute_result"
    }
   ],
   "source": [
    "tfidf_gs.fit(X_train, y_train)"
   ]
  },
  {
   "cell_type": "code",
   "execution_count": 49,
   "id": "coral-surfing",
   "metadata": {},
   "outputs": [],
   "source": [
    "# print(tfidf_gs.best_score_)\n",
    "# print(tfidf_gs.best_params_)\n",
    "tfidf_model = tfidf_gs.best_estimator_"
   ]
  },
  {
   "cell_type": "code",
   "execution_count": 50,
   "id": "veterinary-glance",
   "metadata": {},
   "outputs": [
    {
     "data": {
      "text/plain": [
       "Pipeline(steps=[('tfidf',\n",
       "                 TfidfVectorizer(max_features=2000, ngram_range=(1, 2))),\n",
       "                ('bnb', BernoulliNB())])"
      ]
     },
     "execution_count": 50,
     "metadata": {},
     "output_type": "execute_result"
    }
   ],
   "source": [
    "tfidf_model.fit(X_train, y_train)"
   ]
  },
  {
   "cell_type": "code",
   "execution_count": 51,
   "id": "golden-teaching",
   "metadata": {},
   "outputs": [
    {
     "data": {
      "image/png": "[encoded data removed]",
      "text/plain": [
       "<Figure size 432x288 with 2 Axes>"
      ]
     },
     "metadata": {
      "needs_background": "light"
     },
     "output_type": "display_data"
    }
   ],
   "source": [
    "plot_confusion_matrix(tfidf_model, X_test, y_test, cmap='PuBu', values_format='d')\n",
    "plt.title('TFIDF Initial Model');"
   ]
  },
  {
   "cell_type": "markdown",
   "id": "portuguese-point",
   "metadata": {},
   "source": [
    "### TFIDF Parameter Tuning"
   ]
  },
  {
   "cell_type": "code",
   "execution_count": 52,
   "id": "wired-shore",
   "metadata": {},
   "outputs": [],
   "source": [
    "# Edited for best estimator for speed of fitting in the future\n",
    "# {'tfidf__max_features': 5000, 'tfidf__ngram_range': (1, 2), 'tfidf__stop_words': None}\n",
    "tfidf_params_2 = {\n",
    "    'tfidf__max_features': [6500],\n",
    "    'tfidf__ngram_range': [(1,1)],\n",
    "    'tfidf__stop_words': [None]\n",
    "}"
   ]
  },
  {
   "cell_type": "code",
   "execution_count": 53,
   "id": "prospective-tribune",
   "metadata": {},
   "outputs": [
    {
     "data": {
      "text/plain": [
       "GridSearchCV(cv=10,\n",
       "             estimator=Pipeline(steps=[('tfidf', TfidfVectorizer()),\n",
       "                                       ('bnb', BernoulliNB())]),\n",
       "             n_jobs=5,\n",
       "             param_grid={'tfidf__max_features': [6500],\n",
       "                         'tfidf__ngram_range': [(1, 1)],\n",
       "                         'tfidf__stop_words': [None]})"
      ]
     },
     "execution_count": 53,
     "metadata": {},
     "output_type": "execute_result"
    }
   ],
   "source": [
    "tfidf_gs_2 = GridSearchCV(tfidf_pipe,\n",
    "             tfidf_params_2,\n",
    "             cv=10,\n",
    "             n_jobs=5)\n",
    "\n",
    "tfidf_gs_2.fit(X_train, y_train)"
   ]
  },
  {
   "cell_type": "code",
   "execution_count": 54,
   "id": "connected-denial",
   "metadata": {},
   "outputs": [
    {
     "name": "stdout",
     "output_type": "stream",
     "text": [
      "Original fitting best parameters: {'tfidf__max_features': 2000, 'tfidf__ngram_range': (1, 2), 'tfidf__stop_words': None}\n",
      "Best parameters after tuning: {'tfidf__max_features': 6500, 'tfidf__ngram_range': (1, 1), 'tfidf__stop_words': None}\n"
     ]
    }
   ],
   "source": [
    "print(f'Original fitting best parameters: {tfidf_gs.best_params_}')\n",
    "print(f'Best parameters after tuning: {tfidf_gs_2.best_params_}')"
   ]
  },
  {
   "cell_type": "code",
   "execution_count": 55,
   "id": "unnecessary-judges",
   "metadata": {},
   "outputs": [
    {
     "data": {
      "text/plain": [
       "Pipeline(steps=[('tfidf', TfidfVectorizer(max_features=6500)),\n",
       "                ('bnb', BernoulliNB())])"
      ]
     },
     "execution_count": 55,
     "metadata": {},
     "output_type": "execute_result"
    }
   ],
   "source": [
    "best_pipe_tfidf = tfidf_gs_2.best_estimator_\n",
    "best_pipe_tfidf.fit(X_train, y_train)"
   ]
  },
  {
   "cell_type": "code",
   "execution_count": 56,
   "id": "innovative-thanksgiving",
   "metadata": {},
   "outputs": [
    {
     "name": "stdout",
     "output_type": "stream",
     "text": [
      "Original fit train score: 0.8176119402985075\n",
      "Original fit test score: 0.72\n",
      "Best estimator train score: 0.8814925373134328\n",
      "Best estimator test score: 0.7254545454545455\n"
     ]
    }
   ],
   "source": [
    "print(f'Original fit train score: {tfidf_gs.score(X_train, y_train)}')\n",
    "print(f'Original fit test score: {tfidf_gs.score(X_test, y_test)}')\n",
    "print(f'Best estimator train score: {best_pipe_tfidf.score(X_train, y_train)}')\n",
    "print(f'Best estimator test score: {best_pipe_tfidf.score(X_test, y_test)}')"
   ]
  },
  {
   "cell_type": "code",
   "execution_count": 57,
   "id": "vulnerable-creek",
   "metadata": {},
   "outputs": [
    {
     "data": {
      "image/png": "[encoded data removed]",
      "text/plain": [
       "<Figure size 432x288 with 2 Axes>"
      ]
     },
     "metadata": {
      "needs_background": "light"
     },
     "output_type": "display_data"
    }
   ],
   "source": [
    "plot_confusion_matrix(best_pipe_tfidf, X_test, y_test, cmap='PuBu')\n",
    "plt.title('Best Estimator for TFIDF');"
   ]
  },
  {
   "cell_type": "markdown",
   "id": "encouraging-annual",
   "metadata": {},
   "source": [
    "## Random Forests\n",
    "\n",
    "The final set of models tested, and the only one required to appear in the project, performed incredibly well on the training data, but subsequently failed to accurately predict on the unseen testing data. The accuracy score near of over 0.99 on the training data from both the basic model and the parameter tuned model, leads me to believe they were overfit on the training data leading to poor performance on new data.\n",
    "\n",
    "Once again, I started with parameters similar to those introduced in class and worked through the tuning until the accuracy scores levelled out, removing unused parameters along the way. "
   ]
  },
  {
   "cell_type": "markdown",
   "id": "complex-component",
   "metadata": {},
   "source": [
    "### Random Forest Modeling"
   ]
  },
  {
   "cell_type": "code",
   "execution_count": 58,
   "id": "thermal-shelter",
   "metadata": {},
   "outputs": [],
   "source": [
    "rf_pipe = Pipeline([\n",
    "    ('cv', CountVectorizer()),\n",
    "    ('rf', RandomForestClassifier())\n",
    "])"
   ]
  },
  {
   "cell_type": "code",
   "execution_count": 59,
   "id": "productive-grave",
   "metadata": {},
   "outputs": [],
   "source": [
    "# Edited with best parameters for speed of future fitting\n",
    "rf_params = {\n",
    "    'cv__stop_words': [None],\n",
    "    'cv__ngram_range': [(1,1)],\n",
    "    'rf__n_estimators': [100],\n",
    "    'rf__max_depth': [None]\n",
    "}"
   ]
  },
  {
   "cell_type": "code",
   "execution_count": 60,
   "id": "protected-fundamentals",
   "metadata": {},
   "outputs": [],
   "source": [
    "rf_gs = GridSearchCV(rf_pipe,\n",
    "                    rf_params,\n",
    "                    cv=10,\n",
    "                    n_jobs=5)"
   ]
  },
  {
   "cell_type": "code",
   "execution_count": 61,
   "id": "handmade-metadata",
   "metadata": {},
   "outputs": [
    {
     "data": {
      "text/plain": [
       "GridSearchCV(cv=10,\n",
       "             estimator=Pipeline(steps=[('cv', CountVectorizer()),\n",
       "                                       ('rf', RandomForestClassifier())]),\n",
       "             n_jobs=5,\n",
       "             param_grid={'cv__ngram_range': [(1, 1)], 'cv__stop_words': [None],\n",
       "                         'rf__max_depth': [None], 'rf__n_estimators': [100]})"
      ]
     },
     "execution_count": 61,
     "metadata": {},
     "output_type": "execute_result"
    }
   ],
   "source": [
    "rf_gs.fit(X_train, y_train)"
   ]
  },
  {
   "cell_type": "code",
   "execution_count": 62,
   "id": "first-hammer",
   "metadata": {},
   "outputs": [
    {
     "name": "stdout",
     "output_type": "stream",
     "text": [
      "{'cv__ngram_range': (1, 1), 'cv__stop_words': None, 'rf__max_depth': None, 'rf__n_estimators': 100}\n",
      "Pipeline(steps=[('cv', CountVectorizer()), ('rf', RandomForestClassifier())])\n"
     ]
    }
   ],
   "source": [
    "print(rf_gs.best_params_)\n",
    "print(rf_gs.best_estimator_)"
   ]
  },
  {
   "cell_type": "code",
   "execution_count": 63,
   "id": "clean-alliance",
   "metadata": {},
   "outputs": [],
   "source": [
    "rf_model = rf_gs.best_estimator_"
   ]
  },
  {
   "cell_type": "code",
   "execution_count": 64,
   "id": "prostate-desire",
   "metadata": {},
   "outputs": [
    {
     "name": "stdout",
     "output_type": "stream",
     "text": [
      "0.9982089552238806\n",
      "0.7212121212121212\n"
     ]
    }
   ],
   "source": [
    "print(rf_model.score(X_train, y_train))\n",
    "print(rf_model.score(X_test, y_test))"
   ]
  },
  {
   "cell_type": "code",
   "execution_count": 65,
   "id": "consolidated-cheese",
   "metadata": {},
   "outputs": [],
   "source": [
    "rf_preds = rf_model.predict(X_test)"
   ]
  },
  {
   "cell_type": "code",
   "execution_count": 66,
   "id": "polished-consciousness",
   "metadata": {},
   "outputs": [
    {
     "data": {
      "text/plain": [
       "array([[505, 140],\n",
       "       [320, 685]])"
      ]
     },
     "execution_count": 66,
     "metadata": {},
     "output_type": "execute_result"
    }
   ],
   "source": [
    "confusion_matrix(rf_preds, y_test)"
   ]
  },
  {
   "cell_type": "code",
   "execution_count": 67,
   "id": "martial-quarter",
   "metadata": {},
   "outputs": [
    {
     "data": {
      "image/png": "[encoded data removed]",
      "text/plain": [
       "<Figure size 432x288 with 2 Axes>"
      ]
     },
     "metadata": {
      "needs_background": "light"
     },
     "output_type": "display_data"
    }
   ],
   "source": [
    "plot_confusion_matrix(rf_model, X_test, y_test, cmap='YlGn')\n",
    "plt.title('Initial Random Forest Model');"
   ]
  },
  {
   "cell_type": "markdown",
   "id": "recorded-shareware",
   "metadata": {},
   "source": [
    "### Random Forest Parameter Tuning"
   ]
  },
  {
   "cell_type": "code",
   "execution_count": 68,
   "id": "involved-organizer",
   "metadata": {},
   "outputs": [
    {
     "data": {
      "text/plain": [
       "GridSearchCV(cv=10,\n",
       "             estimator=Pipeline(steps=[('cv', CountVectorizer()),\n",
       "                                       ('rf', RandomForestClassifier())]),\n",
       "             n_jobs=5,\n",
       "             param_grid={'cv__ngram_range': [(1, 1)],\n",
       "                         'cv__stop_words': ['english'], 'rf__max_depth': [None],\n",
       "                         'rf__n_estimators': [200]})"
      ]
     },
     "execution_count": 68,
     "metadata": {},
     "output_type": "execute_result"
    }
   ],
   "source": [
    "# Edited for best parameters for future speed of fit.\n",
    "# {'cv__ngram_range': (1, 1), 'cv__stop_words': 'english', 'rf__max_depth': None, 'rf__n_estimators': 200}\n",
    "rf_params_2 = {\n",
    "    'cv__stop_words': ['english'],\n",
    "    'cv__ngram_range': [(1,1)],\n",
    "    'rf__n_estimators': [200],\n",
    "    'rf__max_depth': [None]\n",
    "}\n",
    "\n",
    "rf_gs_2 = GridSearchCV(rf_pipe,\n",
    "                      rf_params_2,\n",
    "                      cv=10,\n",
    "                      n_jobs=5)\n",
    "\n",
    "rf_gs_2.fit(X_train, y_train)"
   ]
  },
  {
   "cell_type": "code",
   "execution_count": 69,
   "id": "discrete-announcement",
   "metadata": {},
   "outputs": [
    {
     "data": {
      "text/plain": [
       "Pipeline(steps=[('cv', CountVectorizer(stop_words='english')),\n",
       "                ('rf', RandomForestClassifier(n_estimators=200))])"
      ]
     },
     "execution_count": 69,
     "metadata": {},
     "output_type": "execute_result"
    }
   ],
   "source": [
    "rf_gs_2.best_estimator_"
   ]
  },
  {
   "cell_type": "code",
   "execution_count": 70,
   "id": "prerequisite-appreciation",
   "metadata": {},
   "outputs": [
    {
     "name": "stdout",
     "output_type": "stream",
     "text": [
      "{'cv__ngram_range': (1, 1), 'cv__stop_words': 'english', 'rf__max_depth': None, 'rf__n_estimators': 200}\n",
      "0.9976119402985074\n",
      "0.7048484848484848\n"
     ]
    }
   ],
   "source": [
    "print(rf_gs_2.best_params_)\n",
    "print(rf_gs_2.score(X_train, y_train))\n",
    "print(rf_gs_2.score(X_test, y_test))"
   ]
  },
  {
   "cell_type": "code",
   "execution_count": 71,
   "id": "stretch-moral",
   "metadata": {},
   "outputs": [
    {
     "data": {
      "image/png": "[encoded data removed]",
      "text/plain": [
       "<Figure size 432x288 with 2 Axes>"
      ]
     },
     "metadata": {
      "needs_background": "light"
     },
     "output_type": "display_data"
    }
   ],
   "source": [
    "plot_confusion_matrix(rf_gs_2, X_test, y_test, cmap='YlGn')\n",
    "plt.title('Best Estimator for Random Forests');"
   ]
  },
  {
   "cell_type": "markdown",
   "id": "typical-category",
   "metadata": {},
   "source": [
    "## Sentiment Analysis Addition\n",
    "\n",
    "I wanted to work with some sentiment analysis to try improving my models, but unfortunately was unable to tailor any modeling due to constraints on time. I do hope to use the base I've built here to come back and explore the data further and potentially better classify the target subreddits."
   ]
  },
  {
   "cell_type": "code",
   "execution_count": 72,
   "id": "computational-keyboard",
   "metadata": {},
   "outputs": [],
   "source": [
    "from transformers import pipeline\n",
    "from nltk.sentiment.vader import SentimentIntensityAnalyzer"
   ]
  },
  {
   "cell_type": "code",
   "execution_count": 73,
   "id": "brilliant-berkeley",
   "metadata": {},
   "outputs": [],
   "source": [
    "sent = pipeline('sentiment-analysis')\n",
    "nltk = SentimentIntensityAnalyzer()"
   ]
  },
  {
   "cell_type": "code",
   "execution_count": 74,
   "id": "complex-reaction",
   "metadata": {},
   "outputs": [],
   "source": [
    "# Sentiment dataframe saved below\n",
    "# df['sentiment'] = [sent(i) for i in df['title']]\n",
    "# df['nltk_sentiment'] = [nltk.polarity_scores(i) for i in df['title']]"
   ]
  },
  {
   "cell_type": "code",
   "execution_count": 75,
   "id": "prerequisite-dependence",
   "metadata": {},
   "outputs": [],
   "source": [
    "# sent_df = df[['sub', 'title', 'score', 'sentiment', 'nltk_sentiment']]"
   ]
  },
  {
   "cell_type": "code",
   "execution_count": 76,
   "id": "obvious-independence",
   "metadata": {
    "scrolled": false
   },
   "outputs": [
    {
     "data": {
      "text/html": [
       "<div>\n",
       "<style scoped>\n",
       "    .dataframe tbody tr th:only-of-type {\n",
       "        vertical-align: middle;\n",
       "    }\n",
       "\n",
       "    .dataframe tbody tr th {\n",
       "        vertical-align: top;\n",
       "    }\n",
       "\n",
       "    .dataframe thead th {\n",
       "        text-align: right;\n",
       "    }\n",
       "</style>\n",
       "<table border=\"1\" class=\"dataframe\">\n",
       "  <thead>\n",
       "    <tr style=\"text-align: right;\">\n",
       "      <th></th>\n",
       "      <th>Unnamed: 0</th>\n",
       "      <th>sub</th>\n",
       "      <th>title</th>\n",
       "      <th>score</th>\n",
       "      <th>sentiment</th>\n",
       "      <th>nltk_sentiment</th>\n",
       "    </tr>\n",
       "  </thead>\n",
       "  <tbody>\n",
       "    <tr>\n",
       "      <th>0</th>\n",
       "      <td>0</td>\n",
       "      <td>1</td>\n",
       "      <td>On behalf of my neanderthal ancestors, I object!</td>\n",
       "      <td>1</td>\n",
       "      <td>[{'label': 'POSITIVE', 'score': 0.9767237901687622}]</td>\n",
       "      <td>{'neg': 0.0, 'neu': 1.0, 'pos': 0.0, 'compound': 0.0}</td>\n",
       "    </tr>\n",
       "  </tbody>\n",
       "</table>\n",
       "</div>"
      ],
      "text/plain": [
       "   Unnamed: 0  sub                                             title  score  \\\n",
       "0           0    1  On behalf of my neanderthal ancestors, I object!      1   \n",
       "\n",
       "                                              sentiment  \\\n",
       "0  [{'label': 'POSITIVE', 'score': 0.9767237901687622}]   \n",
       "\n",
       "                                          nltk_sentiment  \n",
       "0  {'neg': 0.0, 'neu': 1.0, 'pos': 0.0, 'compound': 0.0}  "
      ]
     },
     "execution_count": 76,
     "metadata": {},
     "output_type": "execute_result"
    }
   ],
   "source": [
    "# sent_df.to_csv('./data/sentiment.csv')\n",
    "sent_df = pd.read_csv('./data/sentiment.csv')\n",
    "sent_df.head(1)"
   ]
  },
  {
   "cell_type": "code",
   "execution_count": 77,
   "id": "under-fifth",
   "metadata": {},
   "outputs": [],
   "source": [
    "# source: https://www.tutorialspoint.com/convert-a-string-representation-of-list-into-list-in-python\n",
    "# sent_df['sentiment'] = [row.strip('][').split(', ') for row in sent_df['sentiment']]"
   ]
  },
  {
   "cell_type": "code",
   "execution_count": 78,
   "id": "ordered-natural",
   "metadata": {},
   "outputs": [
    {
     "data": {
      "text/plain": [
       "\"[{'label': 'POSITIVE', 'score': 0.9767237901687622}]\""
      ]
     },
     "execution_count": 78,
     "metadata": {},
     "output_type": "execute_result"
    }
   ],
   "source": [
    "sent_df['sentiment'][0]"
   ]
  },
  {
   "cell_type": "code",
   "execution_count": 79,
   "id": "above-sixth",
   "metadata": {},
   "outputs": [],
   "source": [
    "sent_df['sentiment'] = [row.replace('[', '').replace(']', '').replace('\"', '') for row in sent_df['sentiment']]"
   ]
  },
  {
   "cell_type": "code",
   "execution_count": 80,
   "id": "pointed-buddy",
   "metadata": {},
   "outputs": [],
   "source": [
    "# source https://stackoverflow.com/a/29713010\n",
    "sent_df['sentiment'] = [eval(row) for row in sent_df['sentiment']]"
   ]
  },
  {
   "cell_type": "code",
   "execution_count": 81,
   "id": "spiritual-trust",
   "metadata": {},
   "outputs": [
    {
     "name": "stdout",
     "output_type": "stream",
     "text": [
      "<class 'dict'>\n"
     ]
    },
    {
     "data": {
      "text/plain": [
       "{'label': 'POSITIVE', 'score': 0.9767237901687622}"
      ]
     },
     "execution_count": 81,
     "metadata": {},
     "output_type": "execute_result"
    }
   ],
   "source": [
    "print(type(sent_df['sentiment'][0]))\n",
    "sent_df['sentiment'][0]"
   ]
  },
  {
   "cell_type": "code",
   "execution_count": 82,
   "id": "cleared-highland",
   "metadata": {},
   "outputs": [
    {
     "data": {
      "text/plain": [
       "'POSITIVE'"
      ]
     },
     "execution_count": 82,
     "metadata": {},
     "output_type": "execute_result"
    }
   ],
   "source": [
    "type(sent_df['sentiment'][0]['score'])\n",
    "sent_df['sentiment'][0]['label']"
   ]
  },
  {
   "cell_type": "code",
   "execution_count": 83,
   "id": "associate-saturday",
   "metadata": {},
   "outputs": [
    {
     "data": {
      "text/plain": [
       "0       0.976724\n",
       "1      -0.991927\n",
       "2      -0.982755\n",
       "3       0.987696\n",
       "4      -0.999180\n",
       "          ...   \n",
       "4995   -0.947833\n",
       "4996   -0.866881\n",
       "4997   -0.984415\n",
       "4998   -0.998453\n",
       "4999   -0.999736\n",
       "Name: bert_sentiment, Length: 5000, dtype: float64"
      ]
     },
     "execution_count": 83,
     "metadata": {},
     "output_type": "execute_result"
    }
   ],
   "source": [
    "sent_df['bert_sentiment'] = sent_df['sentiment'].apply(lambda x: x['score'] * 1 if x['label'] == 'POSITIVE' else x['score'] * -1)\n",
    "sent_df['bert_sentiment']"
   ]
  },
  {
   "cell_type": "code",
   "execution_count": 84,
   "id": "freelance-florida",
   "metadata": {},
   "outputs": [
    {
     "data": {
      "text/html": [
       "<div>\n",
       "<style scoped>\n",
       "    .dataframe tbody tr th:only-of-type {\n",
       "        vertical-align: middle;\n",
       "    }\n",
       "\n",
       "    .dataframe tbody tr th {\n",
       "        vertical-align: top;\n",
       "    }\n",
       "\n",
       "    .dataframe thead th {\n",
       "        text-align: right;\n",
       "    }\n",
       "</style>\n",
       "<table border=\"1\" class=\"dataframe\">\n",
       "  <thead>\n",
       "    <tr style=\"text-align: right;\">\n",
       "      <th></th>\n",
       "      <th>Unnamed: 0</th>\n",
       "      <th>sub</th>\n",
       "      <th>title</th>\n",
       "      <th>score</th>\n",
       "      <th>sentiment</th>\n",
       "      <th>nltk_sentiment</th>\n",
       "      <th>bert_sentiment</th>\n",
       "    </tr>\n",
       "  </thead>\n",
       "  <tbody>\n",
       "    <tr>\n",
       "      <th>0</th>\n",
       "      <td>0</td>\n",
       "      <td>1</td>\n",
       "      <td>On behalf of my neanderthal ancestors, I object!</td>\n",
       "      <td>1</td>\n",
       "      <td>{'label': 'POSITIVE', 'score': 0.9767237901687622}</td>\n",
       "      <td>{'neg': 0.0, 'neu': 1.0, 'pos': 0.0, 'compound': 0.0}</td>\n",
       "      <td>0.976724</td>\n",
       "    </tr>\n",
       "  </tbody>\n",
       "</table>\n",
       "</div>"
      ],
      "text/plain": [
       "   Unnamed: 0  sub                                             title  score  \\\n",
       "0           0    1  On behalf of my neanderthal ancestors, I object!      1   \n",
       "\n",
       "                                            sentiment  \\\n",
       "0  {'label': 'POSITIVE', 'score': 0.9767237901687622}   \n",
       "\n",
       "                                          nltk_sentiment  bert_sentiment  \n",
       "0  {'neg': 0.0, 'neu': 1.0, 'pos': 0.0, 'compound': 0.0}        0.976724  "
      ]
     },
     "execution_count": 84,
     "metadata": {},
     "output_type": "execute_result"
    }
   ],
   "source": [
    "sent_df.head(1)"
   ]
  },
  {
   "cell_type": "code",
   "execution_count": 85,
   "id": "soviet-separation",
   "metadata": {},
   "outputs": [
    {
     "data": {
      "text/plain": [
       "<AxesSubplot:xlabel='score', ylabel='bert_sentiment'>"
      ]
     },
     "execution_count": 85,
     "metadata": {},
     "output_type": "execute_result"
    },
    {
     "data": {
      "image/png": "[encoded data removed]",
      "text/plain": [
       "<Figure size 432x288 with 1 Axes>"
      ]
     },
     "metadata": {
      "needs_background": "light"
     },
     "output_type": "display_data"
    }
   ],
   "source": [
    "sns.scatterplot(data=sent_df,\n",
    "                x=sent_df['score'],\n",
    "                y=sent_df['bert_sentiment'],\n",
    "               hue=sent_df['sub'],\n",
    "               alpha=0.7)"
   ]
  },
  {
   "cell_type": "markdown",
   "id": "precise-genre",
   "metadata": {},
   "source": [
    "## Conclusions\n",
    "\n",
    "I sought to identify whether a post would be correctly classified through NLP, which I thought should be easy based on the language used and the ideals held by both political affiliations. Instead, I proved that both sides may be more similar to one another than either would care to admit. Python struggled to accurately differentiate the posts when fed into various models, never achieving an accuracy score on the testing set of data in an acceptable range. It is possible that the models were not fed enough parameters during tuning to effectively whittle down the inherent errors, and I will seek to further optimize these models in future iterations."
   ]
  },
  {
   "cell_type": "code",
   "execution_count": null,
   "id": "moderate-tiger",
   "metadata": {},
   "outputs": [],
   "source": []
  }
 ],
 "metadata": {
  "kernelspec": {
   "display_name": "Python 3",
   "language": "python",
   "name": "python3"
  },
  "language_info": {
   "codemirror_mode": {
    "name": "ipython",
    "version": 3
   },
   "file_extension": ".py",
   "mimetype": "text/x-python",
   "name": "python",
   "nbconvert_exporter": "python",
   "pygments_lexer": "ipython3",
   "version": "3.8.5"
  }
 },
 "nbformat": 4,
 "nbformat_minor": 5
}
