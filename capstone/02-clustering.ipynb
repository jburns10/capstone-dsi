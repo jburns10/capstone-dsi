{
 "cells": [
  {
   "cell_type": "markdown",
   "id": "gothic-helping",
   "metadata": {},
   "source": [
    "# Clustering Exploration  \n",
    "\n",
    "### Summary\n",
    "This notebook contains some attempted clustering to try to group my clues in the dataset into more organic categories. I referred to week 8 lessons about K-Means Clustering and DBSCAN, but I couldn't manage to capture much more than noise. I fit both models onto my full datasset with a tfidf vectorizer to no avail. Additionally, the truncated dataset of the top 25 Jeopardy categories was fit with DBSCAN, also with little success. I would like to work more with this in the future to see if I can find a workable solution to try to capture more signal in the clues, and subsequently attempt classification models through transfer learning in this instance.  \n",
    "\n",
    "Although this was a late stage attempt in my porject process, I have included it as the second notebook in the series since the intention was to move forward with any successes to the modeling phase."
   ]
  },
  {
   "cell_type": "markdown",
   "id": "fleet-closing",
   "metadata": {},
   "source": [
    "## Imports"
   ]
  },
  {
   "cell_type": "code",
   "execution_count": 2,
   "id": "black-place",
   "metadata": {},
   "outputs": [],
   "source": [
    "import pandas as pd\n",
    "import matplotlib.pyplot as plt\n",
    "import numpy as np\n",
    "\n",
    "from sklearn.cluster import KMeans, DBSCAN\n",
    "from sklearn.feature_extraction.text import TfidfVectorizer, CountVectorizer\n",
    "from sklearn.metrics import silhouette_score\n",
    "\n",
    "np.random.seed(42)"
   ]
  },
  {
   "cell_type": "code",
   "execution_count": 3,
   "id": "copyrighted-scholar",
   "metadata": {},
   "outputs": [],
   "source": [
    "df = pd.read_csv('/Users/Josh/Desktop/jeopardy_processed.csv')"
   ]
  },
  {
   "cell_type": "code",
   "execution_count": 4,
   "id": "documentary-federal",
   "metadata": {},
   "outputs": [
    {
     "data": {
      "text/html": [
       "<div>\n",
       "<style scoped>\n",
       "    .dataframe tbody tr th:only-of-type {\n",
       "        vertical-align: middle;\n",
       "    }\n",
       "\n",
       "    .dataframe tbody tr th {\n",
       "        vertical-align: top;\n",
       "    }\n",
       "\n",
       "    .dataframe thead th {\n",
       "        text-align: right;\n",
       "    }\n",
       "</style>\n",
       "<table border=\"1\" class=\"dataframe\">\n",
       "  <thead>\n",
       "    <tr style=\"text-align: right;\">\n",
       "      <th></th>\n",
       "      <th>round</th>\n",
       "      <th>value</th>\n",
       "      <th>daily_double</th>\n",
       "      <th>category</th>\n",
       "      <th>answer</th>\n",
       "      <th>question</th>\n",
       "      <th>air_date</th>\n",
       "      <th>answer_length</th>\n",
       "      <th>answer_word_count</th>\n",
       "      <th>syllable_count</th>\n",
       "      <th>sentence_count</th>\n",
       "      <th>dale_chall_score</th>\n",
       "      <th>processed_answer</th>\n",
       "    </tr>\n",
       "  </thead>\n",
       "  <tbody>\n",
       "    <tr>\n",
       "      <th>0</th>\n",
       "      <td>1</td>\n",
       "      <td>100</td>\n",
       "      <td>no</td>\n",
       "      <td>LAKES &amp; RIVERS</td>\n",
       "      <td>River mentioned most often in the Bible</td>\n",
       "      <td>the Jordan</td>\n",
       "      <td>1984-09-10</td>\n",
       "      <td>39</td>\n",
       "      <td>7</td>\n",
       "      <td>10</td>\n",
       "      <td>1</td>\n",
       "      <td>6.24</td>\n",
       "      <td>['river', 'mention', 'often', 'bibl']</td>\n",
       "    </tr>\n",
       "    <tr>\n",
       "      <th>1</th>\n",
       "      <td>1</td>\n",
       "      <td>200</td>\n",
       "      <td>no</td>\n",
       "      <td>LAKES &amp; RIVERS</td>\n",
       "      <td>Scottish word for lake</td>\n",
       "      <td>loch</td>\n",
       "      <td>1984-09-10</td>\n",
       "      <td>22</td>\n",
       "      <td>4</td>\n",
       "      <td>5</td>\n",
       "      <td>1</td>\n",
       "      <td>7.78</td>\n",
       "      <td>['scottish', 'word', 'lake']</td>\n",
       "    </tr>\n",
       "    <tr>\n",
       "      <th>2</th>\n",
       "      <td>1</td>\n",
       "      <td>400</td>\n",
       "      <td>no</td>\n",
       "      <td>LAKES &amp; RIVERS</td>\n",
       "      <td>American river only 33 miles shorter than the ...</td>\n",
       "      <td>the Missouri</td>\n",
       "      <td>1984-09-10</td>\n",
       "      <td>57</td>\n",
       "      <td>9</td>\n",
       "      <td>17</td>\n",
       "      <td>1</td>\n",
       "      <td>7.59</td>\n",
       "      <td>['american', 'river', 'onli', '33', 'mile', 's...</td>\n",
       "    </tr>\n",
       "    <tr>\n",
       "      <th>3</th>\n",
       "      <td>1</td>\n",
       "      <td>500</td>\n",
       "      <td>no</td>\n",
       "      <td>LAKES &amp; RIVERS</td>\n",
       "      <td>World's largest lake, nearly 5 times as big as...</td>\n",
       "      <td>the Caspian Sea</td>\n",
       "      <td>1984-09-10</td>\n",
       "      <td>55</td>\n",
       "      <td>10</td>\n",
       "      <td>14</td>\n",
       "      <td>1</td>\n",
       "      <td>5.71</td>\n",
       "      <td>['world', 'largest', 'lake', 'nearli', '5', 't...</td>\n",
       "    </tr>\n",
       "    <tr>\n",
       "      <th>4</th>\n",
       "      <td>1</td>\n",
       "      <td>100</td>\n",
       "      <td>no</td>\n",
       "      <td>INVENTIONS</td>\n",
       "      <td>Marconi's wonderful wireless</td>\n",
       "      <td>the radio</td>\n",
       "      <td>1984-09-10</td>\n",
       "      <td>28</td>\n",
       "      <td>3</td>\n",
       "      <td>8</td>\n",
       "      <td>1</td>\n",
       "      <td>14.31</td>\n",
       "      <td>['marconi', 'wonder', 'wireless']</td>\n",
       "    </tr>\n",
       "  </tbody>\n",
       "</table>\n",
       "</div>"
      ],
      "text/plain": [
       "   round  value daily_double        category  \\\n",
       "0      1    100           no  LAKES & RIVERS   \n",
       "1      1    200           no  LAKES & RIVERS   \n",
       "2      1    400           no  LAKES & RIVERS   \n",
       "3      1    500           no  LAKES & RIVERS   \n",
       "4      1    100           no      INVENTIONS   \n",
       "\n",
       "                                              answer         question  \\\n",
       "0            River mentioned most often in the Bible       the Jordan   \n",
       "1                             Scottish word for lake             loch   \n",
       "2  American river only 33 miles shorter than the ...     the Missouri   \n",
       "3  World's largest lake, nearly 5 times as big as...  the Caspian Sea   \n",
       "4                       Marconi's wonderful wireless        the radio   \n",
       "\n",
       "     air_date  answer_length  answer_word_count  syllable_count  \\\n",
       "0  1984-09-10             39                  7              10   \n",
       "1  1984-09-10             22                  4               5   \n",
       "2  1984-09-10             57                  9              17   \n",
       "3  1984-09-10             55                 10              14   \n",
       "4  1984-09-10             28                  3               8   \n",
       "\n",
       "   sentence_count  dale_chall_score  \\\n",
       "0               1              6.24   \n",
       "1               1              7.78   \n",
       "2               1              7.59   \n",
       "3               1              5.71   \n",
       "4               1             14.31   \n",
       "\n",
       "                                    processed_answer  \n",
       "0              ['river', 'mention', 'often', 'bibl']  \n",
       "1                       ['scottish', 'word', 'lake']  \n",
       "2  ['american', 'river', 'onli', '33', 'mile', 's...  \n",
       "3  ['world', 'largest', 'lake', 'nearli', '5', 't...  \n",
       "4                  ['marconi', 'wonder', 'wireless']  "
      ]
     },
     "execution_count": 4,
     "metadata": {},
     "output_type": "execute_result"
    }
   ],
   "source": [
    "df.head()"
   ]
  },
  {
   "cell_type": "code",
   "execution_count": 5,
   "id": "pharmaceutical-cleaners",
   "metadata": {},
   "outputs": [],
   "source": [
    "df = df[['category', 'answer', 'question']]"
   ]
  },
  {
   "cell_type": "markdown",
   "id": "peripheral-drove",
   "metadata": {},
   "source": [
    "### Vectorization with TFIDF"
   ]
  },
  {
   "cell_type": "code",
   "execution_count": 8,
   "id": "wrapped-footage",
   "metadata": {},
   "outputs": [],
   "source": [
    "vectorizer = TfidfVectorizer(stop_words='english')\n",
    "X = vectorizer.fit_transform(df['answer'])"
   ]
  },
  {
   "cell_type": "markdown",
   "id": "approximate-positive",
   "metadata": {},
   "source": [
    "### K-Nearest Neighbors"
   ]
  },
  {
   "cell_type": "code",
   "execution_count": 13,
   "id": "partial-wildlife",
   "metadata": {},
   "outputs": [
    {
     "name": "stderr",
     "output_type": "stream",
     "text": [
      "/Users/Josh/opt/anaconda3/envs/dsi/lib/python3.8/site-packages/sklearn/cluster/_kmeans.py:792: FutureWarning: 'n_jobs' was deprecated in version 0.23 and will be removed in 1.0 (renaming of 0.25).\n",
      "  warnings.warn(\"'n_jobs' was deprecated in version 0.23 and will be\"\n",
      "/Users/Josh/opt/anaconda3/envs/dsi/lib/python3.8/site-packages/sklearn/cluster/_kmeans.py:792: FutureWarning: 'n_jobs' was deprecated in version 0.23 and will be removed in 1.0 (renaming of 0.25).\n",
      "  warnings.warn(\"'n_jobs' was deprecated in version 0.23 and will be\"\n",
      "/Users/Josh/opt/anaconda3/envs/dsi/lib/python3.8/site-packages/sklearn/cluster/_kmeans.py:792: FutureWarning: 'n_jobs' was deprecated in version 0.23 and will be removed in 1.0 (renaming of 0.25).\n",
      "  warnings.warn(\"'n_jobs' was deprecated in version 0.23 and will be\"\n",
      "/Users/Josh/opt/anaconda3/envs/dsi/lib/python3.8/site-packages/sklearn/cluster/_kmeans.py:792: FutureWarning: 'n_jobs' was deprecated in version 0.23 and will be removed in 1.0 (renaming of 0.25).\n",
      "  warnings.warn(\"'n_jobs' was deprecated in version 0.23 and will be\"\n",
      "/Users/Josh/opt/anaconda3/envs/dsi/lib/python3.8/site-packages/sklearn/cluster/_kmeans.py:792: FutureWarning: 'n_jobs' was deprecated in version 0.23 and will be removed in 1.0 (renaming of 0.25).\n",
      "  warnings.warn(\"'n_jobs' was deprecated in version 0.23 and will be\"\n",
      "/Users/Josh/opt/anaconda3/envs/dsi/lib/python3.8/site-packages/sklearn/cluster/_kmeans.py:792: FutureWarning: 'n_jobs' was deprecated in version 0.23 and will be removed in 1.0 (renaming of 0.25).\n",
      "  warnings.warn(\"'n_jobs' was deprecated in version 0.23 and will be\"\n",
      "/Users/Josh/opt/anaconda3/envs/dsi/lib/python3.8/site-packages/sklearn/cluster/_kmeans.py:792: FutureWarning: 'n_jobs' was deprecated in version 0.23 and will be removed in 1.0 (renaming of 0.25).\n",
      "  warnings.warn(\"'n_jobs' was deprecated in version 0.23 and will be\"\n",
      "/Users/Josh/opt/anaconda3/envs/dsi/lib/python3.8/site-packages/sklearn/cluster/_kmeans.py:792: FutureWarning: 'n_jobs' was deprecated in version 0.23 and will be removed in 1.0 (renaming of 0.25).\n",
      "  warnings.warn(\"'n_jobs' was deprecated in version 0.23 and will be\"\n",
      "/Users/Josh/opt/anaconda3/envs/dsi/lib/python3.8/site-packages/sklearn/cluster/_kmeans.py:792: FutureWarning: 'n_jobs' was deprecated in version 0.23 and will be removed in 1.0 (renaming of 0.25).\n",
      "  warnings.warn(\"'n_jobs' was deprecated in version 0.23 and will be\"\n",
      "/Users/Josh/opt/anaconda3/envs/dsi/lib/python3.8/site-packages/sklearn/cluster/_kmeans.py:792: FutureWarning: 'n_jobs' was deprecated in version 0.23 and will be removed in 1.0 (renaming of 0.25).\n",
      "  warnings.warn(\"'n_jobs' was deprecated in version 0.23 and will be\"\n",
      "/Users/Josh/opt/anaconda3/envs/dsi/lib/python3.8/site-packages/sklearn/cluster/_kmeans.py:792: FutureWarning: 'n_jobs' was deprecated in version 0.23 and will be removed in 1.0 (renaming of 0.25).\n",
      "  warnings.warn(\"'n_jobs' was deprecated in version 0.23 and will be\"\n",
      "/Users/Josh/opt/anaconda3/envs/dsi/lib/python3.8/site-packages/sklearn/cluster/_kmeans.py:792: FutureWarning: 'n_jobs' was deprecated in version 0.23 and will be removed in 1.0 (renaming of 0.25).\n",
      "  warnings.warn(\"'n_jobs' was deprecated in version 0.23 and will be\"\n",
      "/Users/Josh/opt/anaconda3/envs/dsi/lib/python3.8/site-packages/sklearn/cluster/_kmeans.py:792: FutureWarning: 'n_jobs' was deprecated in version 0.23 and will be removed in 1.0 (renaming of 0.25).\n",
      "  warnings.warn(\"'n_jobs' was deprecated in version 0.23 and will be\"\n",
      "/Users/Josh/opt/anaconda3/envs/dsi/lib/python3.8/site-packages/sklearn/cluster/_kmeans.py:792: FutureWarning: 'n_jobs' was deprecated in version 0.23 and will be removed in 1.0 (renaming of 0.25).\n",
      "  warnings.warn(\"'n_jobs' was deprecated in version 0.23 and will be\"\n",
      "/Users/Josh/opt/anaconda3/envs/dsi/lib/python3.8/site-packages/sklearn/cluster/_kmeans.py:792: FutureWarning: 'n_jobs' was deprecated in version 0.23 and will be removed in 1.0 (renaming of 0.25).\n",
      "  warnings.warn(\"'n_jobs' was deprecated in version 0.23 and will be\"\n",
      "/Users/Josh/opt/anaconda3/envs/dsi/lib/python3.8/site-packages/sklearn/cluster/_kmeans.py:792: FutureWarning: 'n_jobs' was deprecated in version 0.23 and will be removed in 1.0 (renaming of 0.25).\n",
      "  warnings.warn(\"'n_jobs' was deprecated in version 0.23 and will be\"\n",
      "/Users/Josh/opt/anaconda3/envs/dsi/lib/python3.8/site-packages/sklearn/cluster/_kmeans.py:792: FutureWarning: 'n_jobs' was deprecated in version 0.23 and will be removed in 1.0 (renaming of 0.25).\n",
      "  warnings.warn(\"'n_jobs' was deprecated in version 0.23 and will be\"\n",
      "/Users/Josh/opt/anaconda3/envs/dsi/lib/python3.8/site-packages/sklearn/cluster/_kmeans.py:792: FutureWarning: 'n_jobs' was deprecated in version 0.23 and will be removed in 1.0 (renaming of 0.25).\n",
      "  warnings.warn(\"'n_jobs' was deprecated in version 0.23 and will be\"\n",
      "/Users/Josh/opt/anaconda3/envs/dsi/lib/python3.8/site-packages/sklearn/cluster/_kmeans.py:792: FutureWarning: 'n_jobs' was deprecated in version 0.23 and will be removed in 1.0 (renaming of 0.25).\n",
      "  warnings.warn(\"'n_jobs' was deprecated in version 0.23 and will be\"\n",
      "/Users/Josh/opt/anaconda3/envs/dsi/lib/python3.8/site-packages/sklearn/cluster/_kmeans.py:792: FutureWarning: 'n_jobs' was deprecated in version 0.23 and will be removed in 1.0 (renaming of 0.25).\n",
      "  warnings.warn(\"'n_jobs' was deprecated in version 0.23 and will be\"\n",
      "/Users/Josh/opt/anaconda3/envs/dsi/lib/python3.8/site-packages/sklearn/cluster/_kmeans.py:792: FutureWarning: 'n_jobs' was deprecated in version 0.23 and will be removed in 1.0 (renaming of 0.25).\n",
      "  warnings.warn(\"'n_jobs' was deprecated in version 0.23 and will be\"\n",
      "/Users/Josh/opt/anaconda3/envs/dsi/lib/python3.8/site-packages/sklearn/cluster/_kmeans.py:792: FutureWarning: 'n_jobs' was deprecated in version 0.23 and will be removed in 1.0 (renaming of 0.25).\n",
      "  warnings.warn(\"'n_jobs' was deprecated in version 0.23 and will be\"\n",
      "/Users/Josh/opt/anaconda3/envs/dsi/lib/python3.8/site-packages/sklearn/cluster/_kmeans.py:792: FutureWarning: 'n_jobs' was deprecated in version 0.23 and will be removed in 1.0 (renaming of 0.25).\n",
      "  warnings.warn(\"'n_jobs' was deprecated in version 0.23 and will be\"\n",
      "/Users/Josh/opt/anaconda3/envs/dsi/lib/python3.8/site-packages/sklearn/cluster/_kmeans.py:792: FutureWarning: 'n_jobs' was deprecated in version 0.23 and will be removed in 1.0 (renaming of 0.25).\n",
      "  warnings.warn(\"'n_jobs' was deprecated in version 0.23 and will be\"\n",
      "/Users/Josh/opt/anaconda3/envs/dsi/lib/python3.8/site-packages/sklearn/cluster/_kmeans.py:792: FutureWarning: 'n_jobs' was deprecated in version 0.23 and will be removed in 1.0 (renaming of 0.25).\n",
      "  warnings.warn(\"'n_jobs' was deprecated in version 0.23 and will be\"\n",
      "/Users/Josh/opt/anaconda3/envs/dsi/lib/python3.8/site-packages/sklearn/cluster/_kmeans.py:792: FutureWarning: 'n_jobs' was deprecated in version 0.23 and will be removed in 1.0 (renaming of 0.25).\n",
      "  warnings.warn(\"'n_jobs' was deprecated in version 0.23 and will be\"\n",
      "/Users/Josh/opt/anaconda3/envs/dsi/lib/python3.8/site-packages/sklearn/cluster/_kmeans.py:792: FutureWarning: 'n_jobs' was deprecated in version 0.23 and will be removed in 1.0 (renaming of 0.25).\n",
      "  warnings.warn(\"'n_jobs' was deprecated in version 0.23 and will be\"\n",
      "/Users/Josh/opt/anaconda3/envs/dsi/lib/python3.8/site-packages/sklearn/cluster/_kmeans.py:792: FutureWarning: 'n_jobs' was deprecated in version 0.23 and will be removed in 1.0 (renaming of 0.25).\n",
      "  warnings.warn(\"'n_jobs' was deprecated in version 0.23 and will be\"\n",
      "/Users/Josh/opt/anaconda3/envs/dsi/lib/python3.8/site-packages/sklearn/cluster/_kmeans.py:792: FutureWarning: 'n_jobs' was deprecated in version 0.23 and will be removed in 1.0 (renaming of 0.25).\n",
      "  warnings.warn(\"'n_jobs' was deprecated in version 0.23 and will be\"\n"
     ]
    },
    {
     "name": "stdout",
     "output_type": "stream",
     "text": [
      "CPU times: user 13h 33min 20s, sys: 2h 13min 2s, total: 15h 46min 23s\n",
      "Wall time: 14h 20min 15s\n"
     ]
    }
   ],
   "source": [
    "# This code was taken directly from Lesson 8.01: Intro to Clustering and K-Means\n",
    "# Iterate through potential cluster amounts and return inertia and silhouette scores for evaluation\n",
    "\n",
    "%%time\n",
    "\n",
    "scores = []\n",
    "for k in range(2, 31):\n",
    "    cl = KMeans(n_clusters=k, n_jobs=4)\n",
    "    cl.fit(X)\n",
    "    inertia = cl.inertia_\n",
    "    sil = silhouette_score(X, cl.labels_)\n",
    "    scores.append([k, inertia, sil])\n",
    "    \n",
    "score_df = pd.DataFrame(scores)\n",
    "score_df.columns = ['k', 'inertia', 'silhouette']"
   ]
  },
  {
   "cell_type": "code",
   "execution_count": 14,
   "id": "solar-cookbook",
   "metadata": {},
   "outputs": [
    {
     "data": {
      "text/html": [
       "<div>\n",
       "<style scoped>\n",
       "    .dataframe tbody tr th:only-of-type {\n",
       "        vertical-align: middle;\n",
       "    }\n",
       "\n",
       "    .dataframe tbody tr th {\n",
       "        vertical-align: top;\n",
       "    }\n",
       "\n",
       "    .dataframe thead th {\n",
       "        text-align: right;\n",
       "    }\n",
       "</style>\n",
       "<table border=\"1\" class=\"dataframe\">\n",
       "  <thead>\n",
       "    <tr style=\"text-align: right;\">\n",
       "      <th></th>\n",
       "      <th>k</th>\n",
       "      <th>inertia</th>\n",
       "      <th>silhouette</th>\n",
       "    </tr>\n",
       "  </thead>\n",
       "  <tbody>\n",
       "    <tr>\n",
       "      <th>0</th>\n",
       "      <td>2</td>\n",
       "      <td>348458.415152</td>\n",
       "      <td>0.000790</td>\n",
       "    </tr>\n",
       "    <tr>\n",
       "      <th>1</th>\n",
       "      <td>3</td>\n",
       "      <td>348092.089058</td>\n",
       "      <td>0.001145</td>\n",
       "    </tr>\n",
       "    <tr>\n",
       "      <th>2</th>\n",
       "      <td>4</td>\n",
       "      <td>347787.030448</td>\n",
       "      <td>0.001487</td>\n",
       "    </tr>\n",
       "    <tr>\n",
       "      <th>3</th>\n",
       "      <td>5</td>\n",
       "      <td>347416.217691</td>\n",
       "      <td>0.001826</td>\n",
       "    </tr>\n",
       "    <tr>\n",
       "      <th>4</th>\n",
       "      <td>6</td>\n",
       "      <td>347198.121874</td>\n",
       "      <td>0.001954</td>\n",
       "    </tr>\n",
       "    <tr>\n",
       "      <th>5</th>\n",
       "      <td>7</td>\n",
       "      <td>346766.717089</td>\n",
       "      <td>0.002437</td>\n",
       "    </tr>\n",
       "    <tr>\n",
       "      <th>6</th>\n",
       "      <td>8</td>\n",
       "      <td>346596.926129</td>\n",
       "      <td>0.002694</td>\n",
       "    </tr>\n",
       "    <tr>\n",
       "      <th>7</th>\n",
       "      <td>9</td>\n",
       "      <td>346229.470257</td>\n",
       "      <td>0.003169</td>\n",
       "    </tr>\n",
       "    <tr>\n",
       "      <th>8</th>\n",
       "      <td>10</td>\n",
       "      <td>345877.542930</td>\n",
       "      <td>0.003389</td>\n",
       "    </tr>\n",
       "    <tr>\n",
       "      <th>9</th>\n",
       "      <td>11</td>\n",
       "      <td>345854.314559</td>\n",
       "      <td>0.003455</td>\n",
       "    </tr>\n",
       "    <tr>\n",
       "      <th>10</th>\n",
       "      <td>12</td>\n",
       "      <td>345525.793871</td>\n",
       "      <td>0.003858</td>\n",
       "    </tr>\n",
       "    <tr>\n",
       "      <th>11</th>\n",
       "      <td>13</td>\n",
       "      <td>345259.588503</td>\n",
       "      <td>0.004174</td>\n",
       "    </tr>\n",
       "    <tr>\n",
       "      <th>12</th>\n",
       "      <td>14</td>\n",
       "      <td>345103.297187</td>\n",
       "      <td>0.004275</td>\n",
       "    </tr>\n",
       "    <tr>\n",
       "      <th>13</th>\n",
       "      <td>15</td>\n",
       "      <td>344855.088928</td>\n",
       "      <td>0.004586</td>\n",
       "    </tr>\n",
       "    <tr>\n",
       "      <th>14</th>\n",
       "      <td>16</td>\n",
       "      <td>344686.760880</td>\n",
       "      <td>0.004709</td>\n",
       "    </tr>\n",
       "    <tr>\n",
       "      <th>15</th>\n",
       "      <td>17</td>\n",
       "      <td>344408.981448</td>\n",
       "      <td>0.004993</td>\n",
       "    </tr>\n",
       "    <tr>\n",
       "      <th>16</th>\n",
       "      <td>18</td>\n",
       "      <td>344126.733197</td>\n",
       "      <td>0.005306</td>\n",
       "    </tr>\n",
       "    <tr>\n",
       "      <th>17</th>\n",
       "      <td>19</td>\n",
       "      <td>344192.162863</td>\n",
       "      <td>0.005473</td>\n",
       "    </tr>\n",
       "    <tr>\n",
       "      <th>18</th>\n",
       "      <td>20</td>\n",
       "      <td>343981.874384</td>\n",
       "      <td>0.005230</td>\n",
       "    </tr>\n",
       "    <tr>\n",
       "      <th>19</th>\n",
       "      <td>21</td>\n",
       "      <td>343642.111602</td>\n",
       "      <td>0.005788</td>\n",
       "    </tr>\n",
       "    <tr>\n",
       "      <th>20</th>\n",
       "      <td>22</td>\n",
       "      <td>343541.274928</td>\n",
       "      <td>0.005630</td>\n",
       "    </tr>\n",
       "    <tr>\n",
       "      <th>21</th>\n",
       "      <td>23</td>\n",
       "      <td>343397.746870</td>\n",
       "      <td>0.005868</td>\n",
       "    </tr>\n",
       "    <tr>\n",
       "      <th>22</th>\n",
       "      <td>24</td>\n",
       "      <td>343020.029811</td>\n",
       "      <td>0.006215</td>\n",
       "    </tr>\n",
       "    <tr>\n",
       "      <th>23</th>\n",
       "      <td>25</td>\n",
       "      <td>342773.997905</td>\n",
       "      <td>0.006636</td>\n",
       "    </tr>\n",
       "    <tr>\n",
       "      <th>24</th>\n",
       "      <td>26</td>\n",
       "      <td>342895.113977</td>\n",
       "      <td>0.006193</td>\n",
       "    </tr>\n",
       "    <tr>\n",
       "      <th>25</th>\n",
       "      <td>27</td>\n",
       "      <td>342471.202431</td>\n",
       "      <td>0.006752</td>\n",
       "    </tr>\n",
       "    <tr>\n",
       "      <th>26</th>\n",
       "      <td>28</td>\n",
       "      <td>342369.772689</td>\n",
       "      <td>0.006880</td>\n",
       "    </tr>\n",
       "    <tr>\n",
       "      <th>27</th>\n",
       "      <td>29</td>\n",
       "      <td>342318.528088</td>\n",
       "      <td>0.006684</td>\n",
       "    </tr>\n",
       "    <tr>\n",
       "      <th>28</th>\n",
       "      <td>30</td>\n",
       "      <td>341944.162308</td>\n",
       "      <td>0.007385</td>\n",
       "    </tr>\n",
       "  </tbody>\n",
       "</table>\n",
       "</div>"
      ],
      "text/plain": [
       "     k        inertia  silhouette\n",
       "0    2  348458.415152    0.000790\n",
       "1    3  348092.089058    0.001145\n",
       "2    4  347787.030448    0.001487\n",
       "3    5  347416.217691    0.001826\n",
       "4    6  347198.121874    0.001954\n",
       "5    7  346766.717089    0.002437\n",
       "6    8  346596.926129    0.002694\n",
       "7    9  346229.470257    0.003169\n",
       "8   10  345877.542930    0.003389\n",
       "9   11  345854.314559    0.003455\n",
       "10  12  345525.793871    0.003858\n",
       "11  13  345259.588503    0.004174\n",
       "12  14  345103.297187    0.004275\n",
       "13  15  344855.088928    0.004586\n",
       "14  16  344686.760880    0.004709\n",
       "15  17  344408.981448    0.004993\n",
       "16  18  344126.733197    0.005306\n",
       "17  19  344192.162863    0.005473\n",
       "18  20  343981.874384    0.005230\n",
       "19  21  343642.111602    0.005788\n",
       "20  22  343541.274928    0.005630\n",
       "21  23  343397.746870    0.005868\n",
       "22  24  343020.029811    0.006215\n",
       "23  25  342773.997905    0.006636\n",
       "24  26  342895.113977    0.006193\n",
       "25  27  342471.202431    0.006752\n",
       "26  28  342369.772689    0.006880\n",
       "27  29  342318.528088    0.006684\n",
       "28  30  341944.162308    0.007385"
      ]
     },
     "execution_count": 14,
     "metadata": {},
     "output_type": "execute_result"
    }
   ],
   "source": [
    "score_df"
   ]
  },
  {
   "cell_type": "markdown",
   "id": "challenging-orchestra",
   "metadata": {},
   "source": [
    "Examining the silhouette score through 29 iterations of the loop with k-values ranging from 2 to 30, I was unable to capture a score much above zero leading me to pivot to another method of clustering. I was hoping to see a silhouette score closer to 1 at some iteration but it appears I will need a k much higher than the 30 I allowed as a maximum. With more time, I think I could have found a more workable number of clusters, however, time did not permit due to extensive time cost during training.  \n",
    "As an alternative, I would consider trying to cluster my categories since several of them are very similar and tended to confuse the classification algorithm during the modeling process which will be evident in notebook 3: Modeling."
   ]
  },
  {
   "cell_type": "markdown",
   "id": "jewish-liberal",
   "metadata": {},
   "source": [
    "### DBSCAN"
   ]
  },
  {
   "cell_type": "code",
   "execution_count": 18,
   "id": "binary-bubble",
   "metadata": {},
   "outputs": [
    {
     "name": "stdout",
     "output_type": "stream",
     "text": [
      "CPU times: user 1h 3min 42s, sys: 14min 43s, total: 1h 18min 25s\n",
      "Wall time: 42min 49s\n"
     ]
    },
    {
     "data": {
      "text/plain": [
       "DBSCAN(n_jobs=4)"
      ]
     },
     "execution_count": 18,
     "metadata": {},
     "output_type": "execute_result"
    }
   ],
   "source": [
    "%%time\n",
    "dbscan = DBSCAN(n_jobs=4)\n",
    "dbscan.fit(X)"
   ]
  },
  {
   "cell_type": "code",
   "execution_count": 19,
   "id": "beneficial-cement",
   "metadata": {},
   "outputs": [
    {
     "data": {
      "text/plain": [
       "-0.29133736653762277"
      ]
     },
     "execution_count": 19,
     "metadata": {},
     "output_type": "execute_result"
    }
   ],
   "source": [
    "silhouette_score(X, dbscan.labels_)"
   ]
  },
  {
   "cell_type": "code",
   "execution_count": 35,
   "id": "appropriate-expression",
   "metadata": {},
   "outputs": [
    {
     "data": {
      "text/plain": [
       "-1     349269\n",
       " 1        150\n",
       " 38        14\n",
       " 29         8\n",
       " 8          7\n",
       " 18         7\n",
       " 14         7\n",
       " 11         6\n",
       " 37         6\n",
       " 33         6\n",
       " 19         6\n",
       " 0          6\n",
       " 10         6\n",
       " 2          6\n",
       " 3          6\n",
       " 6          6\n",
       " 12         5\n",
       " 28         5\n",
       " 39         5\n",
       " 36         5\n",
       " 35         5\n",
       " 34         5\n",
       " 4          5\n",
       " 32         5\n",
       " 31         5\n",
       " 30         5\n",
       " 5          5\n",
       " 26         5\n",
       " 27         5\n",
       " 13         5\n",
       " 25         5\n",
       " 24         5\n",
       " 23         5\n",
       " 22         5\n",
       " 21         5\n",
       " 7          5\n",
       " 9          5\n",
       " 17         5\n",
       " 16         5\n",
       " 15         5\n",
       " 20         5\n",
       "dtype: int64"
      ]
     },
     "execution_count": 35,
     "metadata": {},
     "output_type": "execute_result"
    }
   ],
   "source": [
    "pd.Series(dbscan.labels_).value_counts()"
   ]
  },
  {
   "cell_type": "markdown",
   "id": "spanish-bench",
   "metadata": {},
   "source": [
    "I attempted DBSCAN despite the fact that it tends to perform better with more clear delineations between clusters, and again got results of mostly noise. The vast majority of the data were categorized into the -1 cluster, with only a small handful making their way into more meaningful areas.  \n",
    "\n",
    "Below, I tried to fit DBSCAN on the smaller, truncated dataset with absolutely zero success. Once again, I would love to come back later to attempt the clustering portion of this project looking for more meaningful results to move forward with."
   ]
  },
  {
   "cell_type": "code",
   "execution_count": 4,
   "id": "bigger-newspaper",
   "metadata": {},
   "outputs": [],
   "source": [
    "df2 = pd.read_csv('./datasets/top_25_processed.csv')"
   ]
  },
  {
   "cell_type": "code",
   "execution_count": 30,
   "id": "accomplished-scholar",
   "metadata": {},
   "outputs": [],
   "source": [
    "X2 = df2['answer']\n",
    "\n",
    "vec = TfidfVectorizer(stop_words='english')\n",
    "X2_vec = vectorizer.fit_transform(X2)"
   ]
  },
  {
   "cell_type": "code",
   "execution_count": 31,
   "id": "minor-landscape",
   "metadata": {},
   "outputs": [
    {
     "data": {
      "text/plain": [
       "DBSCAN(n_jobs=4)"
      ]
     },
     "execution_count": 31,
     "metadata": {},
     "output_type": "execute_result"
    }
   ],
   "source": [
    "dbs = DBSCAN(n_jobs=4)\n",
    "dbs.fit(X2_vec)"
   ]
  },
  {
   "cell_type": "code",
   "execution_count": 37,
   "id": "proprietary-policy",
   "metadata": {},
   "outputs": [
    {
     "data": {
      "text/plain": [
       "-1    15009\n",
       "dtype: int64"
      ]
     },
     "execution_count": 37,
     "metadata": {},
     "output_type": "execute_result"
    }
   ],
   "source": [
    "pd.Series(dbs.labels_).value_counts()"
   ]
  }
 ],
 "metadata": {
  "kernelspec": {
   "display_name": "Python 3",
   "language": "python",
   "name": "python3"
  },
  "language_info": {
   "codemirror_mode": {
    "name": "ipython",
    "version": 3
   },
   "file_extension": ".py",
   "mimetype": "text/x-python",
   "name": "python",
   "nbconvert_exporter": "python",
   "pygments_lexer": "ipython3",
   "version": "3.8.5"
  }
 },
 "nbformat": 4,
 "nbformat_minor": 5
}
